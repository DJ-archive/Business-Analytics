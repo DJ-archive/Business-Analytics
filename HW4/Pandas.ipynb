{
 "cells": [
  {
   "cell_type": "markdown",
   "metadata": {},
   "source": [
    "\n",
    "<h1 id=\"Pandas-기초연습문제\">Pandas 기초연습문제<a class=\"anchor-link\" href=\"https://eclass2.ajou.ac.kr/bbcswebdav/pid-698126-dt-content-rid-10115455_1/courses/2020U00020032020084481/Pandas_exercise.html#Pandas-%EA%B8%B0%EC%B4%88%EC%97%B0%EC%8A%B5%EB%AC%B8%EC%A0%9C\">¶</a></h1><hr/>\n"
   ]
  },
  {
   "cell_type": "code",
   "execution_count": 1,
   "metadata": {},
   "outputs": [],
   "source": [
    "import pandas as pd"
   ]
  },
  {
   "cell_type": "markdown",
   "metadata": {},
   "source": [
    "\n",
    "<h3 id=\"1.-딕셔너리를-이용하여-아래와-같은-모양이-되도록-data-frame을-생성하시오.\">1. 딕셔너리를 이용하여 아래와 같은 모양이 되도록 data frame을 생성하시오.<a class=\"anchor-link\" href=\"https://eclass2.ajou.ac.kr/bbcswebdav/pid-698126-dt-content-rid-10115455_1/courses/2020U00020032020084481/Pandas_exercise.html#1.-%EB%94%95%EC%85%94%EB%84%88%EB%A6%AC%EB%A5%BC-%EC%9D%B4%EC%9A%A9%ED%95%98%EC%97%AC-%EC%95%84%EB%9E%98%EC%99%80-%EA%B0%99%EC%9D%80-%EB%AA%A8%EC%96%91%EC%9D%B4-%EB%90%98%EB%8F%84%EB%A1%9D-data-frame%EC%9D%84-%EC%83%9D%EC%84%B1%ED%95%98%EC%8B%9C%EC%98%A4.\">¶</a></h3><p><img src=\"./Pandas Exercise (1)_files/pandasEx.png\"/></p>\n"
   ]
  },
  {
   "cell_type": "code",
   "execution_count": 2,
   "metadata": {},
   "outputs": [
    {
     "data": {
      "text/html": [
       "<div>\n",
       "<style scoped>\n",
       "    .dataframe tbody tr th:only-of-type {\n",
       "        vertical-align: middle;\n",
       "    }\n",
       "\n",
       "    .dataframe tbody tr th {\n",
       "        vertical-align: top;\n",
       "    }\n",
       "\n",
       "    .dataframe thead th {\n",
       "        text-align: right;\n",
       "    }\n",
       "</style>\n",
       "<table border=\"1\" class=\"dataframe\">\n",
       "  <thead>\n",
       "    <tr style=\"text-align: right;\">\n",
       "      <th></th>\n",
       "      <th>학번</th>\n",
       "      <th>이름</th>\n",
       "      <th>학과</th>\n",
       "      <th>Quiz</th>\n",
       "      <th>중간고사</th>\n",
       "    </tr>\n",
       "  </thead>\n",
       "  <tbody>\n",
       "    <tr>\n",
       "      <th>0</th>\n",
       "      <td>201524213</td>\n",
       "      <td>오지환</td>\n",
       "      <td>경영정보</td>\n",
       "      <td>15</td>\n",
       "      <td>20</td>\n",
       "    </tr>\n",
       "    <tr>\n",
       "      <th>1</th>\n",
       "      <td>201621223</td>\n",
       "      <td>박용택</td>\n",
       "      <td>경영정보</td>\n",
       "      <td>20</td>\n",
       "      <td>20</td>\n",
       "    </tr>\n",
       "    <tr>\n",
       "      <th>2</th>\n",
       "      <td>201621233</td>\n",
       "      <td>정성훈</td>\n",
       "      <td>경영정보</td>\n",
       "      <td>10</td>\n",
       "      <td>15</td>\n",
       "    </tr>\n",
       "    <tr>\n",
       "      <th>3</th>\n",
       "      <td>201611111</td>\n",
       "      <td>다니엘</td>\n",
       "      <td>컴퓨터공학</td>\n",
       "      <td>17</td>\n",
       "      <td>18</td>\n",
       "    </tr>\n",
       "    <tr>\n",
       "      <th>4</th>\n",
       "      <td>201722222</td>\n",
       "      <td>지민</td>\n",
       "      <td>컴퓨터공학</td>\n",
       "      <td>18</td>\n",
       "      <td>16</td>\n",
       "    </tr>\n",
       "  </tbody>\n",
       "</table>\n",
       "</div>"
      ],
      "text/plain": [
       "          학번   이름     학과  Quiz  중간고사\n",
       "0  201524213  오지환   경영정보    15    20\n",
       "1  201621223  박용택   경영정보    20    20\n",
       "2  201621233  정성훈   경영정보    10    15\n",
       "3  201611111  다니엘  컴퓨터공학    17    18\n",
       "4  201722222   지민  컴퓨터공학    18    16"
      ]
     },
     "execution_count": 2,
     "metadata": {},
     "output_type": "execute_result"
    }
   ],
   "source": [
    "score={'학번':[201524213,201621223,201621233, 201611111, 201722222],\n",
    "       '이름':['오지환','박용택','정성훈', '다니엘', '지민'],\n",
    "       '학과':['경영정보','경영정보','경영정보','컴퓨터공학','컴퓨터공학'],\n",
    "       'Quiz':[15,20,10,17,18],\n",
    "       '중간고사':[20,20,15,18,16]}\n",
    "\n",
    "df= pd.DataFrame(score)\n",
    "# column 이름: 값의 dict 형태를 pd.DataFrame을 이용하여 dataframe으로 만들어 준다.\n",
    "# 이때, 데이터 행의 갯수는 같아야 하므로 값의 갯수가 같아야 한다.\n",
    "df"
   ]
  },
  {
   "cell_type": "code",
   "execution_count": 3,
   "metadata": {},
   "outputs": [
    {
     "data": {
      "text/plain": [
       "0    201524213\n",
       "1    201621223\n",
       "2    201621233\n",
       "3    201611111\n",
       "4    201722222\n",
       "Name: 학번, dtype: int64"
      ]
     },
     "execution_count": 3,
     "metadata": {},
     "output_type": "execute_result"
    }
   ],
   "source": [
    "df['학번'] #'학번'컬럼의 값들을 가져온다. series 형태"
   ]
  },
  {
   "cell_type": "markdown",
   "metadata": {},
   "source": [
    "\n",
    "<h3 id=\"2.-위에서-생성한-데이터프레임으로부터-인덱싱을-이용하여-이름과-중간고사를-추출하시오.\">2. 위에서 생성한 데이터프레임으로부터 인덱싱을 이용하여 이름과 중간고사를 추출하시오.<a class=\"anchor-link\" href=\"https://eclass2.ajou.ac.kr/bbcswebdav/pid-698126-dt-content-rid-10115455_1/courses/2020U00020032020084481/Pandas_exercise.html#2.-%EC%9C%84%EC%97%90%EC%84%9C-%EC%83%9D%EC%84%B1%ED%95%9C-%EB%8D%B0%EC%9D%B4%ED%84%B0%ED%94%84%EB%A0%88%EC%9E%84%EC%9C%BC%EB%A1%9C%EB%B6%80%ED%84%B0-%EC%9D%B8%EB%8D%B1%EC%8B%B1%EC%9D%84-%EC%9D%B4%EC%9A%A9%ED%95%98%EC%97%AC-%EC%9D%B4%EB%A6%84%EA%B3%BC-%EC%A4%91%EA%B0%84%EA%B3%A0%EC%82%AC%EB%A5%BC-%EC%B6%94%EC%B6%9C%ED%95%98%EC%8B%9C%EC%98%A4.\">¶</a></h3>\n"
   ]
  },
  {
   "cell_type": "code",
   "execution_count": 4,
   "metadata": {},
   "outputs": [
    {
     "data": {
      "text/html": [
       "<div>\n",
       "<style scoped>\n",
       "    .dataframe tbody tr th:only-of-type {\n",
       "        vertical-align: middle;\n",
       "    }\n",
       "\n",
       "    .dataframe tbody tr th {\n",
       "        vertical-align: top;\n",
       "    }\n",
       "\n",
       "    .dataframe thead th {\n",
       "        text-align: right;\n",
       "    }\n",
       "</style>\n",
       "<table border=\"1\" class=\"dataframe\">\n",
       "  <thead>\n",
       "    <tr style=\"text-align: right;\">\n",
       "      <th></th>\n",
       "      <th>이름</th>\n",
       "      <th>중간고사</th>\n",
       "    </tr>\n",
       "  </thead>\n",
       "  <tbody>\n",
       "    <tr>\n",
       "      <th>0</th>\n",
       "      <td>오지환</td>\n",
       "      <td>20</td>\n",
       "    </tr>\n",
       "    <tr>\n",
       "      <th>1</th>\n",
       "      <td>박용택</td>\n",
       "      <td>20</td>\n",
       "    </tr>\n",
       "    <tr>\n",
       "      <th>2</th>\n",
       "      <td>정성훈</td>\n",
       "      <td>15</td>\n",
       "    </tr>\n",
       "    <tr>\n",
       "      <th>3</th>\n",
       "      <td>다니엘</td>\n",
       "      <td>18</td>\n",
       "    </tr>\n",
       "    <tr>\n",
       "      <th>4</th>\n",
       "      <td>지민</td>\n",
       "      <td>16</td>\n",
       "    </tr>\n",
       "  </tbody>\n",
       "</table>\n",
       "</div>"
      ],
      "text/plain": [
       "    이름  중간고사\n",
       "0  오지환    20\n",
       "1  박용택    20\n",
       "2  정성훈    15\n",
       "3  다니엘    18\n",
       "4   지민    16"
      ]
     },
     "execution_count": 4,
     "metadata": {},
     "output_type": "execute_result"
    }
   ],
   "source": [
    "df[['이름', '중간고사']] #여러 개의 컬럼 값들을 가져오려면 이중리스트를 통해 가져온다. dataframe 형태."
   ]
  },
  {
   "cell_type": "markdown",
   "metadata": {},
   "source": [
    "\n",
    "<h3 id=\"3.-reindex를-이용하여-2,-0,-4,-1,-3-순으로-순서를-변경하시오.\">3. reindex를 이용하여 2, 0, 4, 1, 3 순으로 순서를 변경하시오.<a class=\"anchor-link\" href=\"https://eclass2.ajou.ac.kr/bbcswebdav/pid-698126-dt-content-rid-10115455_1/courses/2020U00020032020084481/Pandas_exercise.html#3.-reindex%EB%A5%BC-%EC%9D%B4%EC%9A%A9%ED%95%98%EC%97%AC-2,-0,-4,-1,-3-%EC%88%9C%EC%9C%BC%EB%A1%9C-%EC%88%9C%EC%84%9C%EB%A5%BC-%EB%B3%80%EA%B2%BD%ED%95%98%EC%8B%9C%EC%98%A4.\">¶</a></h3>\n"
   ]
  },
  {
   "cell_type": "code",
   "execution_count": 5,
   "metadata": {},
   "outputs": [
    {
     "data": {
      "text/html": [
       "<div>\n",
       "<style scoped>\n",
       "    .dataframe tbody tr th:only-of-type {\n",
       "        vertical-align: middle;\n",
       "    }\n",
       "\n",
       "    .dataframe tbody tr th {\n",
       "        vertical-align: top;\n",
       "    }\n",
       "\n",
       "    .dataframe thead th {\n",
       "        text-align: right;\n",
       "    }\n",
       "</style>\n",
       "<table border=\"1\" class=\"dataframe\">\n",
       "  <thead>\n",
       "    <tr style=\"text-align: right;\">\n",
       "      <th></th>\n",
       "      <th>학번</th>\n",
       "      <th>이름</th>\n",
       "      <th>학과</th>\n",
       "      <th>Quiz</th>\n",
       "      <th>중간고사</th>\n",
       "    </tr>\n",
       "  </thead>\n",
       "  <tbody>\n",
       "    <tr>\n",
       "      <th>2</th>\n",
       "      <td>201621233</td>\n",
       "      <td>정성훈</td>\n",
       "      <td>경영정보</td>\n",
       "      <td>10</td>\n",
       "      <td>15</td>\n",
       "    </tr>\n",
       "    <tr>\n",
       "      <th>0</th>\n",
       "      <td>201524213</td>\n",
       "      <td>오지환</td>\n",
       "      <td>경영정보</td>\n",
       "      <td>15</td>\n",
       "      <td>20</td>\n",
       "    </tr>\n",
       "    <tr>\n",
       "      <th>4</th>\n",
       "      <td>201722222</td>\n",
       "      <td>지민</td>\n",
       "      <td>컴퓨터공학</td>\n",
       "      <td>18</td>\n",
       "      <td>16</td>\n",
       "    </tr>\n",
       "    <tr>\n",
       "      <th>1</th>\n",
       "      <td>201621223</td>\n",
       "      <td>박용택</td>\n",
       "      <td>경영정보</td>\n",
       "      <td>20</td>\n",
       "      <td>20</td>\n",
       "    </tr>\n",
       "    <tr>\n",
       "      <th>3</th>\n",
       "      <td>201611111</td>\n",
       "      <td>다니엘</td>\n",
       "      <td>컴퓨터공학</td>\n",
       "      <td>17</td>\n",
       "      <td>18</td>\n",
       "    </tr>\n",
       "  </tbody>\n",
       "</table>\n",
       "</div>"
      ],
      "text/plain": [
       "          학번   이름     학과  Quiz  중간고사\n",
       "2  201621233  정성훈   경영정보    10    15\n",
       "0  201524213  오지환   경영정보    15    20\n",
       "4  201722222   지민  컴퓨터공학    18    16\n",
       "1  201621223  박용택   경영정보    20    20\n",
       "3  201611111  다니엘  컴퓨터공학    17    18"
      ]
     },
     "execution_count": 5,
     "metadata": {},
     "output_type": "execute_result"
    }
   ],
   "source": [
    "df = df.reindex([2, 0, 4, 1, 3]) #reindex > index 순서를 dataframe 원형의 index 넘버를 새로 지정하여 바꿔준다.\n",
    "df"
   ]
  },
  {
   "cell_type": "markdown",
   "metadata": {},
   "source": [
    "\n",
    "<h3 id=\"4.-iloc과-loc을-각각-이용하여-박용택-학생의-record를-추출하시오.-(iloc으로-한번,-loc으로-한번-수행)\">4. iloc과 loc을 각각 이용하여 박용택 학생의 record를 추출하시오. (iloc으로 한번, loc으로 한번 수행)<a class=\"anchor-link\" href=\"https://eclass2.ajou.ac.kr/bbcswebdav/pid-698126-dt-content-rid-10115455_1/courses/2020U00020032020084481/Pandas_exercise.html#4.-iloc%EA%B3%BC-loc%EC%9D%84-%EA%B0%81%EA%B0%81-%EC%9D%B4%EC%9A%A9%ED%95%98%EC%97%AC-%EB%B0%95%EC%9A%A9%ED%83%9D-%ED%95%99%EC%83%9D%EC%9D%98-record%EB%A5%BC-%EC%B6%94%EC%B6%9C%ED%95%98%EC%8B%9C%EC%98%A4.-(iloc%EC%9C%BC%EB%A1%9C-%ED%95%9C%EB%B2%88,-loc%EC%9C%BC%EB%A1%9C-%ED%95%9C%EB%B2%88-%EC%88%98%ED%96%89)\">¶</a></h3>\n"
   ]
  },
  {
   "cell_type": "markdown",
   "metadata": {},
   "source": [
    "* iloc: 위치 기반\n",
    "* loc: 명칭 기반"
   ]
  },
  {
   "cell_type": "code",
   "execution_count": 6,
   "metadata": {},
   "outputs": [
    {
     "name": "stdout",
     "output_type": "stream",
     "text": [
      "          학번   이름     학과  Quiz  중간고사\n",
      "2  201621233  정성훈   경영정보    10    15\n",
      "0  201524213  오지환   경영정보    15    20\n",
      "4  201722222   지민  컴퓨터공학    18    16\n",
      "1  201621223  박용택   경영정보    20    20\n",
      "3  201611111  다니엘  컴퓨터공학    17    18 \n",
      "\n",
      "학번      201621223\n",
      "이름            박용택\n",
      "학과           경영정보\n",
      "Quiz           20\n",
      "중간고사           20\n",
      "Name: 1, dtype: object \n",
      "\n",
      "학번      201621223\n",
      "이름            박용택\n",
      "학과           경영정보\n",
      "Quiz           20\n",
      "중간고사           20\n",
      "Name: 1, dtype: object\n"
     ]
    }
   ],
   "source": [
    "print(df, '\\n') #reindex된 df\n",
    "print(df.iloc[3], '\\n') # iloc: '위치정보'를 기반으로 가져온다. 현재 df의 '박용택'정보는 indexing 3의 위치에 있기 때문에 iloc[3]을 써준다.\n",
    "print(df.loc[1])#loc: '명칭기반'으로 값을 추출한다.박용택은 index 1의 명칭으로 지정되어 있기 때문에, loc[1]로 가져온다."
   ]
  },
  {
   "cell_type": "markdown",
   "metadata": {},
   "source": [
    "\n",
    "<h3 id=\"5.-iloc과-loc을-각각-이용하여-모든-학생의-이름과-중간고사-점수를-추출하시오.-(iloc으로-한번,-loc으로-한번-수행)\">5. iloc과 loc을 각각 이용하여 모든 학생의 이름과 중간고사 점수를 추출하시오. (iloc으로 한번, loc으로 한번 수행)<a class=\"anchor-link\" href=\"https://eclass2.ajou.ac.kr/bbcswebdav/pid-698126-dt-content-rid-10115455_1/courses/2020U00020032020084481/Pandas_exercise.html#5.-iloc%EA%B3%BC-loc%EC%9D%84-%EA%B0%81%EA%B0%81-%EC%9D%B4%EC%9A%A9%ED%95%98%EC%97%AC-%EB%AA%A8%EB%93%A0-%ED%95%99%EC%83%9D%EC%9D%98-%EC%9D%B4%EB%A6%84%EA%B3%BC-%EC%A4%91%EA%B0%84%EA%B3%A0%EC%82%AC-%EC%A0%90%EC%88%98%EB%A5%BC-%EC%B6%94%EC%B6%9C%ED%95%98%EC%8B%9C%EC%98%A4.-(iloc%EC%9C%BC%EB%A1%9C-%ED%95%9C%EB%B2%88,-loc%EC%9C%BC%EB%A1%9C-%ED%95%9C%EB%B2%88-%EC%88%98%ED%96%89)\">¶</a></h3>\n"
   ]
  },
  {
   "cell_type": "code",
   "execution_count": 7,
   "metadata": {},
   "outputs": [
    {
     "name": "stdout",
     "output_type": "stream",
     "text": [
      "    이름  중간고사\n",
      "2  정성훈    15\n",
      "0  오지환    20\n",
      "4   지민    16\n",
      "1  박용택    20\n",
      "3  다니엘    18 \n",
      "\n",
      "    이름  중간고사\n",
      "2  정성훈    15\n",
      "0  오지환    20\n",
      "4   지민    16\n",
      "1  박용택    20\n",
      "3  다니엘    18\n"
     ]
    }
   ],
   "source": [
    "print(df.iloc[:, [1, 4]], '\\n') # 모든 행, 지정된 컬럼 인덱스 값 추출\n",
    "print(df.loc[:, ['이름', '중간고사']]) # 모든 행, 지정된 컬럼 이름 값 추출"
   ]
  },
  {
   "cell_type": "markdown",
   "metadata": {},
   "source": [
    "\n",
    "<h3 id=\"6.-중간고사-점수의-평균을-구하시오.\">6. 중간고사 점수의 평균을 구하시오.<a class=\"anchor-link\" href=\"https://eclass2.ajou.ac.kr/bbcswebdav/pid-698126-dt-content-rid-10115455_1/courses/2020U00020032020084481/Pandas_exercise.html#6.-%EC%A4%91%EA%B0%84%EA%B3%A0%EC%82%AC-%EC%A0%90%EC%88%98%EC%9D%98-%ED%8F%89%EA%B7%A0%EC%9D%84-%EA%B5%AC%ED%95%98%EC%8B%9C%EC%98%A4.\">¶</a></h3>\n"
   ]
  },
  {
   "cell_type": "code",
   "execution_count": 8,
   "metadata": {},
   "outputs": [
    {
     "data": {
      "text/plain": [
       "17.8"
      ]
     },
     "execution_count": 8,
     "metadata": {},
     "output_type": "execute_result"
    }
   ],
   "source": [
    "df['중간고사'].mean() #.mean(): 평균"
   ]
  },
  {
   "cell_type": "markdown",
   "metadata": {},
   "source": [
    "\n",
    "<h3 id=\"7.-중간고사-점수가-가장-낮은-학생의-index를-구하시오.\">7. 중간고사 점수가 가장 낮은 학생의 index를 구하시오.<a class=\"anchor-link\" href=\"https://eclass2.ajou.ac.kr/bbcswebdav/pid-698126-dt-content-rid-10115455_1/courses/2020U00020032020084481/Pandas_exercise.html#7.-%EC%A4%91%EA%B0%84%EA%B3%A0%EC%82%AC-%EC%A0%90%EC%88%98%EA%B0%80-%EA%B0%80%EC%9E%A5-%EB%82%AE%EC%9D%80-%ED%95%99%EC%83%9D%EC%9D%98-index%EB%A5%BC-%EA%B5%AC%ED%95%98%EC%8B%9C%EC%98%A4.\">¶</a></h3>\n"
   ]
  },
  {
   "cell_type": "code",
   "execution_count": 9,
   "metadata": {},
   "outputs": [
    {
     "data": {
      "text/plain": [
       "2"
      ]
     },
     "execution_count": 9,
     "metadata": {},
     "output_type": "execute_result"
    }
   ],
   "source": [
    "df['중간고사'].idxmin() #idxmin(): 최솟값의 index 넘버 가져오기"
   ]
  },
  {
   "cell_type": "markdown",
   "metadata": {},
   "source": [
    "\n",
    "<h3 id=\"8.-퀴즈-점수가-가장-높은-학생의-학번을-구하시오.\">8. 퀴즈 점수가 가장 높은 학생의 학번을 구하시오.<a class=\"anchor-link\" href=\"https://eclass2.ajou.ac.kr/bbcswebdav/pid-698126-dt-content-rid-10115455_1/courses/2020U00020032020084481/Pandas_exercise.html#8.-%ED%80%B4%EC%A6%88-%EC%A0%90%EC%88%98%EA%B0%80-%EA%B0%80%EC%9E%A5-%EB%86%92%EC%9D%80-%ED%95%99%EC%83%9D%EC%9D%98-%ED%95%99%EB%B2%88%EC%9D%84-%EA%B5%AC%ED%95%98%EC%8B%9C%EC%98%A4.\">¶</a></h3>\n"
   ]
  },
  {
   "cell_type": "code",
   "execution_count": 10,
   "metadata": {},
   "outputs": [
    {
     "data": {
      "text/plain": [
       "201621223"
      ]
     },
     "execution_count": 10,
     "metadata": {},
     "output_type": "execute_result"
    }
   ],
   "source": [
    "df.loc[df['Quiz'].idxmax(), '학번']\n",
    "#df.loc[df['Quiz'].idxmax()]['학번']"
   ]
  },
  {
   "cell_type": "markdown",
   "metadata": {},
   "source": [
    "\n",
    "<h3 id=\"9.-위-데이터프레임의-각-열에-대해서-개수,-평균,-표준편차,-최소최대값-등의-다양한-통계량을-출력하시오.\">9. 위 데이터프레임의 각 열에 대해서 개수, 평균, 표준편차, 최소최대값 등의 다양한 통계량을 출력하시오.<a class=\"anchor-link\" href=\"https://eclass2.ajou.ac.kr/bbcswebdav/pid-698126-dt-content-rid-10115455_1/courses/2020U00020032020084481/Pandas_exercise.html#9.-%EC%9C%84-%EB%8D%B0%EC%9D%B4%ED%84%B0%ED%94%84%EB%A0%88%EC%9E%84%EC%9D%98-%EA%B0%81-%EC%97%B4%EC%97%90-%EB%8C%80%ED%95%B4%EC%84%9C-%EA%B0%9C%EC%88%98,-%ED%8F%89%EA%B7%A0,-%ED%91%9C%EC%A4%80%ED%8E%B8%EC%B0%A8,-%EC%B5%9C%EC%86%8C%EC%B5%9C%EB%8C%80%EA%B0%92-%EB%93%B1%EC%9D%98-%EB%8B%A4%EC%96%91%ED%95%9C-%ED%86%B5%EA%B3%84%EB%9F%89%EC%9D%84-%EC%B6%9C%EB%A0%A5%ED%95%98%EC%8B%9C%EC%98%A4.\">¶</a></h3>\n"
   ]
  },
  {
   "cell_type": "code",
   "execution_count": 11,
   "metadata": {},
   "outputs": [
    {
     "data": {
      "text/html": [
       "<div>\n",
       "<style scoped>\n",
       "    .dataframe tbody tr th:only-of-type {\n",
       "        vertical-align: middle;\n",
       "    }\n",
       "\n",
       "    .dataframe tbody tr th {\n",
       "        vertical-align: top;\n",
       "    }\n",
       "\n",
       "    .dataframe thead th {\n",
       "        text-align: right;\n",
       "    }\n",
       "</style>\n",
       "<table border=\"1\" class=\"dataframe\">\n",
       "  <thead>\n",
       "    <tr style=\"text-align: right;\">\n",
       "      <th></th>\n",
       "      <th>학번</th>\n",
       "      <th>Quiz</th>\n",
       "      <th>중간고사</th>\n",
       "    </tr>\n",
       "  </thead>\n",
       "  <tbody>\n",
       "    <tr>\n",
       "      <th>count</th>\n",
       "      <td>5.000000e+00</td>\n",
       "      <td>5.000000</td>\n",
       "      <td>5.000000</td>\n",
       "    </tr>\n",
       "    <tr>\n",
       "      <th>mean</th>\n",
       "      <td>2.016200e+08</td>\n",
       "      <td>16.000000</td>\n",
       "      <td>17.800000</td>\n",
       "    </tr>\n",
       "    <tr>\n",
       "      <th>std</th>\n",
       "      <td>7.018995e+04</td>\n",
       "      <td>3.807887</td>\n",
       "      <td>2.280351</td>\n",
       "    </tr>\n",
       "    <tr>\n",
       "      <th>min</th>\n",
       "      <td>2.015242e+08</td>\n",
       "      <td>10.000000</td>\n",
       "      <td>15.000000</td>\n",
       "    </tr>\n",
       "    <tr>\n",
       "      <th>25%</th>\n",
       "      <td>2.016111e+08</td>\n",
       "      <td>15.000000</td>\n",
       "      <td>16.000000</td>\n",
       "    </tr>\n",
       "    <tr>\n",
       "      <th>50%</th>\n",
       "      <td>2.016212e+08</td>\n",
       "      <td>17.000000</td>\n",
       "      <td>18.000000</td>\n",
       "    </tr>\n",
       "    <tr>\n",
       "      <th>75%</th>\n",
       "      <td>2.016212e+08</td>\n",
       "      <td>18.000000</td>\n",
       "      <td>20.000000</td>\n",
       "    </tr>\n",
       "    <tr>\n",
       "      <th>max</th>\n",
       "      <td>2.017222e+08</td>\n",
       "      <td>20.000000</td>\n",
       "      <td>20.000000</td>\n",
       "    </tr>\n",
       "  </tbody>\n",
       "</table>\n",
       "</div>"
      ],
      "text/plain": [
       "                 학번       Quiz       중간고사\n",
       "count  5.000000e+00   5.000000   5.000000\n",
       "mean   2.016200e+08  16.000000  17.800000\n",
       "std    7.018995e+04   3.807887   2.280351\n",
       "min    2.015242e+08  10.000000  15.000000\n",
       "25%    2.016111e+08  15.000000  16.000000\n",
       "50%    2.016212e+08  17.000000  18.000000\n",
       "75%    2.016212e+08  18.000000  20.000000\n",
       "max    2.017222e+08  20.000000  20.000000"
      ]
     },
     "execution_count": 11,
     "metadata": {},
     "output_type": "execute_result"
    }
   ],
   "source": [
    "df.describe() #.describe(): 데이터프레임의 개수, 평균, 표준편차, 최소최댓값 등 요약 정보를 제공한다."
   ]
  },
  {
   "cell_type": "markdown",
   "metadata": {},
   "source": [
    "\n",
    "<h3 id=\"10.-위-데이터프레임을-중간고사-점수에-따라-내림차순으로-정렬하시오.\">10. 위 데이터프레임을 중간고사 점수에 따라 내림차순으로 정렬하시오.<a class=\"anchor-link\" href=\"https://eclass2.ajou.ac.kr/bbcswebdav/pid-698126-dt-content-rid-10115455_1/courses/2020U00020032020084481/Pandas_exercise.html#10.-%EC%9C%84-%EB%8D%B0%EC%9D%B4%ED%84%B0%ED%94%84%EB%A0%88%EC%9E%84%EC%9D%84-%EC%A4%91%EA%B0%84%EA%B3%A0%EC%82%AC-%EC%A0%90%EC%88%98%EC%97%90-%EB%94%B0%EB%9D%BC-%EB%82%B4%EB%A6%BC%EC%B0%A8%EC%88%9C%EC%9C%BC%EB%A1%9C-%EC%A0%95%EB%A0%AC%ED%95%98%EC%8B%9C%EC%98%A4.\">¶</a></h3>\n"
   ]
  },
  {
   "cell_type": "code",
   "execution_count": 12,
   "metadata": {},
   "outputs": [
    {
     "data": {
      "text/html": [
       "<div>\n",
       "<style scoped>\n",
       "    .dataframe tbody tr th:only-of-type {\n",
       "        vertical-align: middle;\n",
       "    }\n",
       "\n",
       "    .dataframe tbody tr th {\n",
       "        vertical-align: top;\n",
       "    }\n",
       "\n",
       "    .dataframe thead th {\n",
       "        text-align: right;\n",
       "    }\n",
       "</style>\n",
       "<table border=\"1\" class=\"dataframe\">\n",
       "  <thead>\n",
       "    <tr style=\"text-align: right;\">\n",
       "      <th></th>\n",
       "      <th>학번</th>\n",
       "      <th>이름</th>\n",
       "      <th>학과</th>\n",
       "      <th>Quiz</th>\n",
       "      <th>중간고사</th>\n",
       "    </tr>\n",
       "  </thead>\n",
       "  <tbody>\n",
       "    <tr>\n",
       "      <th>0</th>\n",
       "      <td>201524213</td>\n",
       "      <td>오지환</td>\n",
       "      <td>경영정보</td>\n",
       "      <td>15</td>\n",
       "      <td>20</td>\n",
       "    </tr>\n",
       "    <tr>\n",
       "      <th>1</th>\n",
       "      <td>201621223</td>\n",
       "      <td>박용택</td>\n",
       "      <td>경영정보</td>\n",
       "      <td>20</td>\n",
       "      <td>20</td>\n",
       "    </tr>\n",
       "    <tr>\n",
       "      <th>3</th>\n",
       "      <td>201611111</td>\n",
       "      <td>다니엘</td>\n",
       "      <td>컴퓨터공학</td>\n",
       "      <td>17</td>\n",
       "      <td>18</td>\n",
       "    </tr>\n",
       "    <tr>\n",
       "      <th>4</th>\n",
       "      <td>201722222</td>\n",
       "      <td>지민</td>\n",
       "      <td>컴퓨터공학</td>\n",
       "      <td>18</td>\n",
       "      <td>16</td>\n",
       "    </tr>\n",
       "    <tr>\n",
       "      <th>2</th>\n",
       "      <td>201621233</td>\n",
       "      <td>정성훈</td>\n",
       "      <td>경영정보</td>\n",
       "      <td>10</td>\n",
       "      <td>15</td>\n",
       "    </tr>\n",
       "  </tbody>\n",
       "</table>\n",
       "</div>"
      ],
      "text/plain": [
       "          학번   이름     학과  Quiz  중간고사\n",
       "0  201524213  오지환   경영정보    15    20\n",
       "1  201621223  박용택   경영정보    20    20\n",
       "3  201611111  다니엘  컴퓨터공학    17    18\n",
       "4  201722222   지민  컴퓨터공학    18    16\n",
       "2  201621233  정성훈   경영정보    10    15"
      ]
     },
     "execution_count": 12,
     "metadata": {},
     "output_type": "execute_result"
    }
   ],
   "source": [
    "df.sort_values('중간고사', ascending=False) #sort_values(): 값 정렬 / ascending: 오름차순\n",
    "#False이므로 '중간고사'컬럼 값 기준 내림차순으로 정렬한다."
   ]
  },
  {
   "cell_type": "markdown",
   "metadata": {},
   "source": [
    "\n",
    "<h3 id=\"11.-학생-중에서-퀴즈-점수가-평균-이상인-학생들의-이름을-출력하시오.\">11. 학생 중에서 퀴즈 점수가 평균 이상인 학생들의 이름을 출력하시오.<a class=\"anchor-link\" href=\"https://eclass2.ajou.ac.kr/bbcswebdav/pid-698126-dt-content-rid-10115455_1/courses/2020U00020032020084481/Pandas_exercise.html#11.-%ED%95%99%EC%83%9D-%EC%A4%91%EC%97%90%EC%84%9C-%ED%80%B4%EC%A6%88-%EC%A0%90%EC%88%98%EA%B0%80-%ED%8F%89%EA%B7%A0-%EC%9D%B4%EC%83%81%EC%9D%B8-%ED%95%99%EC%83%9D%EB%93%A4%EC%9D%98-%EC%9D%B4%EB%A6%84%EC%9D%84-%EC%B6%9C%EB%A0%A5%ED%95%98%EC%8B%9C%EC%98%A4.\">¶</a></h3>\n"
   ]
  },
  {
   "cell_type": "code",
   "execution_count": 13,
   "metadata": {
    "scrolled": true
   },
   "outputs": [
    {
     "data": {
      "text/plain": [
       "4     지민\n",
       "1    박용택\n",
       "3    다니엘\n",
       "Name: 이름, dtype: object"
      ]
     },
     "execution_count": 13,
     "metadata": {},
     "output_type": "execute_result"
    }
   ],
   "source": [
    "quiz_mean = df['Quiz'].mean() # 퀴즈 점수 칼럼의 평균을 구한다.\n",
    "df[df['Quiz'] > quiz_mean]['이름'] # 퀴즈 점수 평균보다 큰 값을 가지는 데이터 프레임의 '이름'칼럼 값을 구한다.\n",
    "\n",
    "#[df['Quiz'] > quiz_mean] > boolean으로 나온다. "
   ]
  },
  {
   "cell_type": "markdown",
   "metadata": {},
   "source": [
    "\n",
    "<h3 id=\"12.-학생-중에서-퀴즈와-중간고사-점수-모두-평균-이상인-학생들의-record를-출력하시오.\">12. 학생 중에서 퀴즈와 중간고사 점수 모두 평균 이상인 학생들의 record를 출력하시오.<a class=\"anchor-link\" href=\"https://eclass2.ajou.ac.kr/bbcswebdav/pid-698126-dt-content-rid-10115455_1/courses/2020U00020032020084481/Pandas_exercise.html#12.-%ED%95%99%EC%83%9D-%EC%A4%91%EC%97%90%EC%84%9C-%ED%80%B4%EC%A6%88%EC%99%80-%EC%A4%91%EA%B0%84%EA%B3%A0%EC%82%AC-%EC%A0%90%EC%88%98-%EB%AA%A8%EB%91%90-%ED%8F%89%EA%B7%A0-%EC%9D%B4%EC%83%81%EC%9D%B8-%ED%95%99%EC%83%9D%EB%93%A4%EC%9D%98-record%EB%A5%BC-%EC%B6%9C%EB%A0%A5%ED%95%98%EC%8B%9C%EC%98%A4.\">¶</a></h3>\n"
   ]
  },
  {
   "cell_type": "code",
   "execution_count": 14,
   "metadata": {},
   "outputs": [
    {
     "data": {
      "text/html": [
       "<div>\n",
       "<style scoped>\n",
       "    .dataframe tbody tr th:only-of-type {\n",
       "        vertical-align: middle;\n",
       "    }\n",
       "\n",
       "    .dataframe tbody tr th {\n",
       "        vertical-align: top;\n",
       "    }\n",
       "\n",
       "    .dataframe thead th {\n",
       "        text-align: right;\n",
       "    }\n",
       "</style>\n",
       "<table border=\"1\" class=\"dataframe\">\n",
       "  <thead>\n",
       "    <tr style=\"text-align: right;\">\n",
       "      <th></th>\n",
       "      <th>학번</th>\n",
       "      <th>이름</th>\n",
       "      <th>학과</th>\n",
       "      <th>Quiz</th>\n",
       "      <th>중간고사</th>\n",
       "    </tr>\n",
       "  </thead>\n",
       "  <tbody>\n",
       "    <tr>\n",
       "      <th>1</th>\n",
       "      <td>201621223</td>\n",
       "      <td>박용택</td>\n",
       "      <td>경영정보</td>\n",
       "      <td>20</td>\n",
       "      <td>20</td>\n",
       "    </tr>\n",
       "    <tr>\n",
       "      <th>3</th>\n",
       "      <td>201611111</td>\n",
       "      <td>다니엘</td>\n",
       "      <td>컴퓨터공학</td>\n",
       "      <td>17</td>\n",
       "      <td>18</td>\n",
       "    </tr>\n",
       "  </tbody>\n",
       "</table>\n",
       "</div>"
      ],
      "text/plain": [
       "          학번   이름     학과  Quiz  중간고사\n",
       "1  201621223  박용택   경영정보    20    20\n",
       "3  201611111  다니엘  컴퓨터공학    17    18"
      ]
     },
     "execution_count": 14,
     "metadata": {},
     "output_type": "execute_result"
    }
   ],
   "source": [
    "quiz_mean = df['Quiz'].mean()\n",
    "mid_mean = df['중간고사'].mean()\n",
    "df[(df['Quiz'] > quiz_mean) & (df['중간고사'] > mid_mean)] \n",
    "# &을 통해 두개의 조건이 동시에 만족하는 데이터프레임을 구한다."
   ]
  },
  {
   "cell_type": "markdown",
   "metadata": {},
   "source": [
    "\n",
    "<h3 id=\"13.-value_counts를-이용하여-학과-별로-학생의-수를-구하시오.\">13. value_counts를 이용하여 학과 별로 학생의 수를 구하시오.<a class=\"anchor-link\" href=\"https://eclass2.ajou.ac.kr/bbcswebdav/pid-698126-dt-content-rid-10115455_1/courses/2020U00020032020084481/Pandas_exercise.html#13.-value_counts%EB%A5%BC-%EC%9D%B4%EC%9A%A9%ED%95%98%EC%97%AC-%ED%95%99%EA%B3%BC-%EB%B3%84%EB%A1%9C-%ED%95%99%EC%83%9D%EC%9D%98-%EC%88%98%EB%A5%BC-%EA%B5%AC%ED%95%98%EC%8B%9C%EC%98%A4.\">¶</a></h3>\n"
   ]
  },
  {
   "cell_type": "code",
   "execution_count": 15,
   "metadata": {},
   "outputs": [
    {
     "data": {
      "text/plain": [
       "경영정보     3\n",
       "컴퓨터공학    2\n",
       "Name: 학과, dtype: int64"
      ]
     },
     "execution_count": 15,
     "metadata": {},
     "output_type": "execute_result"
    }
   ],
   "source": [
    "df['학과'].value_counts() # '학과'컬럼 값의 수를 요약해서 보여준다."
   ]
  },
  {
   "cell_type": "markdown",
   "metadata": {},
   "source": [
    "\n",
    "<h3 id=\"14.-groupby를-이용하여-학과-별로-중간고사의-평균을-구하시오.\">14. groupby를 이용하여 학과 별로 중간고사의 평균을 구하시오.<a class=\"anchor-link\" href=\"https://eclass2.ajou.ac.kr/bbcswebdav/pid-698126-dt-content-rid-10115455_1/courses/2020U00020032020084481/Pandas_exercise.html#14.-groupby%EB%A5%BC-%EC%9D%B4%EC%9A%A9%ED%95%98%EC%97%AC-%ED%95%99%EA%B3%BC-%EB%B3%84%EB%A1%9C-%EC%A4%91%EA%B0%84%EA%B3%A0%EC%82%AC%EC%9D%98-%ED%8F%89%EA%B7%A0%EC%9D%84-%EA%B5%AC%ED%95%98%EC%8B%9C%EC%98%A4.\">¶</a></h3>\n"
   ]
  },
  {
   "cell_type": "code",
   "execution_count": 16,
   "metadata": {},
   "outputs": [
    {
     "data": {
      "text/plain": [
       "학과\n",
       "경영정보     18.333333\n",
       "컴퓨터공학    17.000000\n",
       "Name: 중간고사, dtype: float64"
      ]
     },
     "execution_count": 16,
     "metadata": {},
     "output_type": "execute_result"
    }
   ],
   "source": [
    "df.groupby('학과')['중간고사'].mean() \n",
    "#groupby(A)[B]~ > A별로 B의 ~을 보여준다. "
   ]
  },
  {
   "cell_type": "code",
   "execution_count": 17,
   "metadata": {},
   "outputs": [
    {
     "data": {
      "text/plain": [
       "학번      201620000.4\n",
       "Quiz           16.0\n",
       "중간고사           17.8\n",
       "dtype: float64"
      ]
     },
     "execution_count": 17,
     "metadata": {},
     "output_type": "execute_result"
    }
   ],
   "source": [
    "df.mean() # df의 평균들을 컬럼별로 보여준다."
   ]
  },
  {
   "cell_type": "code",
   "execution_count": 18,
   "metadata": {},
   "outputs": [
    {
     "data": {
      "text/plain": [
       "[('경영정보',\n",
       "            학번   이름    학과  Quiz  중간고사\n",
       "  2  201621233  정성훈  경영정보    10    15\n",
       "  0  201524213  오지환  경영정보    15    20\n",
       "  1  201621223  박용택  경영정보    20    20),\n",
       " ('컴퓨터공학',\n",
       "            학번   이름     학과  Quiz  중간고사\n",
       "  4  201722222   지민  컴퓨터공학    18    16\n",
       "  3  201611111  다니엘  컴퓨터공학    17    18)]"
      ]
     },
     "execution_count": 18,
     "metadata": {},
     "output_type": "execute_result"
    }
   ],
   "source": [
    "list(df.groupby('학과')) #학과별로 그룹화 지은 것을 list로 나눠서 보여준다.\n",
    "# [(학과 이름1,값들), (학과 이름2, 값들) ]"
   ]
  }
 ],
 "metadata": {
  "kernelspec": {
   "display_name": "Python 3",
   "language": "python",
   "name": "python3"
  },
  "language_info": {
   "codemirror_mode": {
    "name": "ipython",
    "version": 3
   },
   "file_extension": ".py",
   "mimetype": "text/x-python",
   "name": "python",
   "nbconvert_exporter": "python",
   "pygments_lexer": "ipython3",
   "version": "3.8.3"
  }
 },
 "nbformat": 4,
 "nbformat_minor": 1
}
