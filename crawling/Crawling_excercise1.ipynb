{
 "cells": [
  {
   "cell_type": "markdown",
   "metadata": {},
   "source": [
    "\n",
    "<h1 id=\"웹-크롤링1---Static-Crawling\">웹 크롤링1 - Static Crawling<a class=\"anchor-link\" href=\"https://eclass2.ajou.ac.kr/bbcswebdav/pid-677816-dt-content-rid-9690516_1/courses/2020U00020032020084481/Crawling_exercise1.html#%EC%9B%B9-%ED%81%AC%EB%A1%A4%EB%A7%811---Static-Crawling\">¶</a></h1>\n"
   ]
  },
  {
   "cell_type": "markdown",
   "metadata": {},
   "source": [
    "\n",
    "<hr/>\n",
    "<h1 id=\"1.-urllib\">1. <code>urllib</code><a class=\"anchor-link\" href=\"https://eclass2.ajou.ac.kr/bbcswebdav/pid-677816-dt-content-rid-9690516_1/courses/2020U00020032020084481/Crawling_exercise1.html#1.-urllib\">¶</a></h1><ul>\n",
    "<li>파이썬은 웹 사이트에 있는 데이터를 추출하기 위해 <code>urllib</code> 라이브러리 사용</li>\n",
    "<li>이를 이용해 HTTP 또는 FTP를 사용해 데이터 다운로드 가능</li>\n",
    "<li><code>urllib</code>은 URL을 다루는 모듈을 모아 놓은 패키지</li>\n",
    "<li><code>urllib.request</code> 모듈은 웹 사이트에 있는 데이터에 접근하는 기능 제공, 또한 인증, 리다렉트, 쿠키처럼 인터넷을 이용한 다양한 요청과 처리가 가능</li>\n",
    "</ul>\n"
   ]
  },
  {
   "cell_type": "code",
   "execution_count": 1,
   "metadata": {},
   "outputs": [],
   "source": [
    "from urllib import request"
   ]
  },
  {
   "cell_type": "markdown",
   "metadata": {},
   "source": [
    "\n",
    "<h2 id=\"1.1.-urllib.request를-이용한-다운로드\">1.1. <code>urllib.request</code>를 이용한 다운로드<a class=\"anchor-link\" href=\"https://eclass2.ajou.ac.kr/bbcswebdav/pid-677816-dt-content-rid-9690516_1/courses/2020U00020032020084481/Crawling_exercise1.html#1.1.-urllib.request%EB%A5%BC-%EC%9D%B4%EC%9A%A9%ED%95%9C-%EB%8B%A4%EC%9A%B4%EB%A1%9C%EB%93%9C\">¶</a></h2><ul>\n",
    "<li>urllib.request 모듈에 있는 urlretrieve() 함수 이용</li>\n",
    "<li>다음의 코드는 PNG 파일을 test.png 라는 이름의 파일로 저장하는 예제임</li>\n",
    "</ul>\n"
   ]
  },
  {
   "cell_type": "markdown",
   "metadata": {},
   "source": [
    "> 파일에 바로 저장."
   ]
  },
  {
   "cell_type": "code",
   "execution_count": 2,
   "metadata": {},
   "outputs": [
    {
     "name": "stdout",
     "output_type": "stream",
     "text": [
      "저장되었습니다\n"
     ]
    }
   ],
   "source": [
    "# 라이브러리 읽어들이기 \n",
    "from urllib import request\n",
    "\n",
    "url=\"http://uta.pw/shodou/img/28/214.png\"\n",
    "savename=\"test.png\"\n",
    "# 어떤 url에 있는 것을, savename: 무슨 파일로 저장할 것인가.\n",
    "\n",
    "request.urlretrieve(url, savename)\n",
    "print(\"저장되었습니다\")"
   ]
  },
  {
   "cell_type": "markdown",
   "metadata": {},
   "source": [
    "\n",
    "<h2 id=\"1.2.-urlopen으로-파일에-저장하는-방법\">1.2. urlopen으로 파일에 저장하는 방법<a class=\"anchor-link\" href=\"https://eclass2.ajou.ac.kr/bbcswebdav/pid-677816-dt-content-rid-9690516_1/courses/2020U00020032020084481/Crawling_exercise1.html#1.2.-urlopen%EC%9C%BC%EB%A1%9C-%ED%8C%8C%EC%9D%BC%EC%97%90-%EC%A0%80%EC%9E%A5%ED%95%98%EB%8A%94-%EB%B0%A9%EB%B2%95\">¶</a></h2><ul>\n",
    "<li>request.urlopen()은 메모리에 데이터를 올린 후 파일에 저장하게 된다.</li>\n",
    "</ul>\n",
    "\n",
    "> 파일을 변수에 저장하여 다양하게 활용하기."
   ]
  },
  {
   "cell_type": "code",
   "execution_count": 3,
   "metadata": {},
   "outputs": [
    {
     "name": "stdout",
     "output_type": "stream",
     "text": [
      "저장되었습니다..\n"
     ]
    }
   ],
   "source": [
    "# URL과 저장경로 지정하기\n",
    "url = \"http://uta.pw/shodou/img/28/214.png\"\n",
    "savename = \"test1.png\"\n",
    "#다운로드\n",
    "mem = request.urlopen(url).read()\n",
    "# #mem 변수에 저장후 다양하게 활용 가능.\n",
    "\n",
    "#파일로 저장하기, wb는 쓰기(w)와 바이너리모드(b)\n",
    "with open(savename, mode=\"wb\") as f:\n",
    "    f.write(mem)\n",
    "    print(\"저장되었습니다..\")"
   ]
  },
  {
   "cell_type": "markdown",
   "metadata": {},
   "source": [
    "\n",
    "<h2 id=\"1.3.-API-사용하기\">1.3. API 사용하기<a class=\"anchor-link\" href=\"https://eclass2.ajou.ac.kr/bbcswebdav/pid-677816-dt-content-rid-9690516_1/courses/2020U00020032020084481/Crawling_exercise1.html#1.3.-API-%EC%82%AC%EC%9A%A9%ED%95%98%EA%B8%B0\">¶</a></h2><h3 id=\"클라이언트-접속-정보-출력-(기본)\">클라이언트 접속 정보 출력 (기본)<a class=\"anchor-link\" href=\"https://eclass2.ajou.ac.kr/bbcswebdav/pid-677816-dt-content-rid-9690516_1/courses/2020U00020032020084481/Crawling_exercise1.html#%ED%81%B4%EB%9D%BC%EC%9D%B4%EC%96%B8%ED%8A%B8-%EC%A0%91%EC%86%8D-%EC%A0%95%EB%B3%B4-%EC%B6%9C%EB%A0%A5-(%EA%B8%B0%EB%B3%B8)\">¶</a></h3><ul>\n",
    "<li>API는 사용자의 요청에 따라 정보를 반환하는 프로그램</li>\n",
    "<li>IP 주소, UserAgent 등 클라이언트 접속정보 출력하는 \"IP 확인 API\" 접근해서 정보를 추출하는 프로그램</li>\n",
    "</ul>\n"
   ]
  },
  {
   "cell_type": "code",
   "execution_count": 4,
   "metadata": {},
   "outputs": [
    {
     "name": "stdout",
     "output_type": "stream",
     "text": [
      "[ip]\n",
      "API_URI=http://api.aoikujira.com/ip/get.php\n",
      "REMOTE_ADDR=116.35.158.133\n",
      "REMOTE_HOST=116.35.158.133\n",
      "REMOTE_PORT=38916\n",
      "HTTP_HOST=api.aoikujira.com\n",
      "HTTP_USER_AGENT=Python-urllib/3.8\n",
      "HTTP_ACCEPT_LANGUAGE=\n",
      "HTTP_ACCEPT_CHARSET=\n",
      "SERVER_PORT=80\n",
      "FORMAT=ini\n",
      "\n",
      "\n"
     ]
    }
   ],
   "source": [
    "#데이터 읽어들이기\n",
    "url=\"http://api.aoikujira.com/ip/ini\"\n",
    "res=request.urlopen(url)\n",
    "data=res.read()\n",
    "\n",
    "#바이너리를 문자열로 변환하기\n",
    "text=data.decode(\"utf-8\")\n",
    "print(text)\n",
    "\n"
   ]
  },
  {
   "cell_type": "markdown",
   "metadata": {},
   "source": [
    "\n",
    "<h1 id=\"2.-BeautifulSoup\">2. BeautifulSoup<a class=\"anchor-link\" href=\"https://eclass2.ajou.ac.kr/bbcswebdav/pid-677816-dt-content-rid-9690516_1/courses/2020U00020032020084481/Crawling_exercise1.html#2.-BeautifulSoup\">¶</a></h1><ul>\n",
    "<li>스크레이핑(Scraping or Crawling)이란 웹 사이트에서 데이터를 추출하고, 원하는 정보를 추출하는 것을 의미</li>\n",
    "<li><code>BeautifulSoup</code>란 파이썬으로 스크레이핑할 때 사용되는 라이브러리로서 HTML/XML에서 정보를 추출할 수 있도록 도와줌. 그러나 다운로드 기능은 없음.</li>\n",
    "<li>파이썬 라이브러리는 pip 명령어를 이용해 설치 가능. Python Package Index(PyPI)에 있는 패키지 명령어를 한줄로 설치 가능<ul>\n",
    "<li>URL (<a href=\"http://pypi.python.org/pypi\">http://pypi.python.org/pypi</a>)</li>\n",
    "</ul>\n",
    "</li>\n",
    "</ul>\n",
    "<pre><code>pip install beautifulsoup4</code></pre>\n",
    "<ul>\n",
    "<li>예제 HTML</li>\n",
    "</ul>\n",
    "<div class=\"highlight\"><pre><span></span><span class=\"p\">&lt;</span><span class=\"nt\">html</span><span class=\"p\">&gt;&lt;</span><span class=\"nt\">body</span><span class=\"p\">&gt;</span>\n",
    "  <span class=\"p\">&lt;</span><span class=\"nt\">h1</span><span class=\"p\">&gt;</span>스크레이핑이란?<span class=\"p\">&lt;/</span><span class=\"nt\">h1</span><span class=\"p\">&gt;</span>\n",
    "  <span class=\"p\">&lt;</span><span class=\"nt\">p</span><span class=\"p\">&gt;</span>웹 페이지를 분석하는 것<span class=\"p\">&lt;/</span><span class=\"nt\">p</span><span class=\"p\">&gt;</span>\n",
    "  <span class=\"p\">&lt;</span><span class=\"nt\">p</span><span class=\"p\">&gt;</span>원하는 부분을 추출하는 것<span class=\"p\">&lt;/</span><span class=\"nt\">p</span><span class=\"p\">&gt;</span>\n",
    "<span class=\"p\">&lt;/</span><span class=\"nt\">body</span><span class=\"p\">&gt;&lt;/</span><span class=\"nt\">html</span><span class=\"p\">&gt;</span>\n",
    "</pre></div>\n",
    "<h3 id=\"패키지-import-및-예제-HTML\">패키지 import 및 예제 HTML<a class=\"anchor-link\" href=\"https://eclass2.ajou.ac.kr/bbcswebdav/pid-677816-dt-content-rid-9690516_1/courses/2020U00020032020084481/Crawling_exercise1.html#%ED%8C%A8%ED%82%A4%EC%A7%80-import-%EB%B0%8F-%EC%98%88%EC%A0%9C-HTML\">¶</a></h3>\n"
   ]
  },
  {
   "cell_type": "code",
   "execution_count": 5,
   "metadata": {},
   "outputs": [],
   "source": [
    "from bs4 import BeautifulSoup"
   ]
  },
  {
   "cell_type": "code",
   "execution_count": 6,
   "metadata": {},
   "outputs": [],
   "source": [
    "html = \"\"\"\n",
    "<html><body>\n",
    "  <h1>스크레이핑이란?</h1>\n",
    "  <p>웹 페이지를 분석하는 것</p>\n",
    "  <p>원하는 부분을 추출하는 것</p>\n",
    "</body></html>\n",
    "\"\"\""
   ]
  },
  {
   "cell_type": "markdown",
   "metadata": {},
   "source": [
    "\n",
    "<h2 id=\"2.1.-기본-사용\">2.1. 기본 사용<a class=\"anchor-link\" href=\"https://eclass2.ajou.ac.kr/bbcswebdav/pid-677816-dt-content-rid-9690516_1/courses/2020U00020032020084481/Crawling_exercise1.html#2.1.-%EA%B8%B0%EB%B3%B8-%EC%82%AC%EC%9A%A9\">¶</a></h2><ul>\n",
    "<li><p>다음은 Beautifulsoup를 이용하여 웹사이트로부터 HTML을 가져와 문자열로 만들어 이용하는 예제임</p>\n",
    "</li>\n",
    "<li><p>h1 태그를 접근하기 위해 html-body-h1 구조를 사용하여 soup.html.body.h1 이런식으로 이용하게 됨.</p>\n",
    "</li>\n",
    "<li>p 태그는 두개가 있어 soup.html.body.p 한 후 next_sibling을 두번 이용하여 다음 p를 추출. 한번만 하면 그 다음 공백이 추출됨.</li>\n",
    "<li>HTML 태그가 복잡한 경우 이런 방식으로 계속 진행하기는 적합하지 않음.</li>\n",
    "</ul>\n"
   ]
  },
  {
   "cell_type": "markdown",
   "metadata": {},
   "source": [
    "\n",
    "<h3 id=\"2)-HTML-분석하기\">2) HTML 분석하기<a class=\"anchor-link\" href=\"https://eclass2.ajou.ac.kr/bbcswebdav/pid-677816-dt-content-rid-9690516_1/courses/2020U00020032020084481/Crawling_exercise1.html#2)-HTML-%EB%B6%84%EC%84%9D%ED%95%98%EA%B8%B0\">¶</a></h3>\n"
   ]
  },
  {
   "cell_type": "code",
   "execution_count": 7,
   "metadata": {},
   "outputs": [],
   "source": [
    "soup = BeautifulSoup(html, 'html.parser') #html.parser 사용"
   ]
  },
  {
   "cell_type": "markdown",
   "metadata": {},
   "source": [
    "\n",
    "<h3 id=\"3)-원하는-부분-추출하기\">3) 원하는 부분 추출하기<a class=\"anchor-link\" href=\"https://eclass2.ajou.ac.kr/bbcswebdav/pid-677816-dt-content-rid-9690516_1/courses/2020U00020032020084481/Crawling_exercise1.html#3)-%EC%9B%90%ED%95%98%EB%8A%94-%EB%B6%80%EB%B6%84-%EC%B6%94%EC%B6%9C%ED%95%98%EA%B8%B0\">¶</a></h3>\n"
   ]
  },
  {
   "cell_type": "code",
   "execution_count": 8,
   "metadata": {},
   "outputs": [],
   "source": [
    "h1 = soup.html.body.h1\n",
    "p1 = soup.html.body.p\n",
    "p2 = p1.next_sibling.next_sibling #next_sibling 두 번 이용"
   ]
  },
  {
   "cell_type": "markdown",
   "metadata": {},
   "source": [
    "\n",
    "<h3 id=\"4)-요소의-글자-출력하기\">4) 요소의 글자 출력하기<a class=\"anchor-link\" href=\"https://eclass2.ajou.ac.kr/bbcswebdav/pid-677816-dt-content-rid-9690516_1/courses/2020U00020032020084481/Crawling_exercise1.html#4)-%EC%9A%94%EC%86%8C%EC%9D%98-%EA%B8%80%EC%9E%90-%EC%B6%9C%EB%A0%A5%ED%95%98%EA%B8%B0\">¶</a></h3>\n"
   ]
  },
  {
   "cell_type": "code",
   "execution_count": 9,
   "metadata": {},
   "outputs": [
    {
     "name": "stdout",
     "output_type": "stream",
     "text": [
      "h1 = 스크레이핑이란?\n",
      "p  = 웹 페이지를 분석하는 것\n",
      "p  = 원하는 부분을 추출하는 것\n"
     ]
    }
   ],
   "source": [
    "print(f\"h1 = {h1.string}\")\n",
    "print(f\"p  = {p1.string}\")\n",
    "print(f\"p  = {p2.string}\")"
   ]
  },
  {
   "cell_type": "markdown",
   "metadata": {},
   "source": [
    "\n",
    "<h2 id=\"2.2.-요소를-찾는-method\">2.2. 요소를 찾는 method<a class=\"anchor-link\" href=\"https://eclass2.ajou.ac.kr/bbcswebdav/pid-677816-dt-content-rid-9690516_1/courses/2020U00020032020084481/Crawling_exercise1.html#2.2.-%EC%9A%94%EC%86%8C%EB%A5%BC-%EC%B0%BE%EB%8A%94-method\">¶</a></h2><h3 id=\"단일-element-추출:-find()\">단일 element 추출: <code>find()</code><a class=\"anchor-link\" href=\"https://eclass2.ajou.ac.kr/bbcswebdav/pid-677816-dt-content-rid-9690516_1/courses/2020U00020032020084481/Crawling_exercise1.html#%EB%8B%A8%EC%9D%BC-element-%EC%B6%94%EC%B6%9C:-find()\">¶</a></h3><p>BeautifulSoup는 루트부터 하나하나 요소를 찾는 방법 말고도 find()라는 메소드를 제공함</p>\n"
   ]
  },
  {
   "cell_type": "code",
   "execution_count": 10,
   "metadata": {},
   "outputs": [],
   "source": [
    "soup = BeautifulSoup(html, 'html.parser')"
   ]
  },
  {
   "cell_type": "markdown",
   "metadata": {},
   "source": [
    "\n",
    "<ul>\n",
    "<li>1) <code>find()</code> 메서드로 원하는 부분 추출하기</li>\n",
    "</ul>\n"
   ]
  },
  {
   "cell_type": "code",
   "execution_count": 11,
   "metadata": {},
   "outputs": [
    {
     "name": "stdout",
     "output_type": "stream",
     "text": [
      "<h1>스크레이핑이란?</h1>\n"
     ]
    }
   ],
   "source": [
    "title = soup.find(\"h1\")\n",
    "body  = soup.find(\"p\")\n",
    "print(title)"
   ]
  },
  {
   "cell_type": "markdown",
   "metadata": {},
   "source": [
    "\n",
    "<ul>\n",
    "<li>2) 텍스트 부분 출력하기</li>\n",
    "</ul>\n"
   ]
  },
  {
   "cell_type": "code",
   "execution_count": 12,
   "metadata": {},
   "outputs": [
    {
     "name": "stdout",
     "output_type": "stream",
     "text": [
      "#title = 스크레이핑이란?\n",
      "#body = 웹 페이지를 분석하는 것\n"
     ]
    }
   ],
   "source": [
    "print(f\"#title = {title.string}\" )\n",
    "print(f\"#body = {body.string}\")"
   ]
  },
  {
   "cell_type": "markdown",
   "metadata": {},
   "source": [
    "\n",
    "<h3 id=\"복수-elements-추출:-find_all()\">복수 elements 추출: <code>find_all()</code><a class=\"anchor-link\" href=\"https://eclass2.ajou.ac.kr/bbcswebdav/pid-677816-dt-content-rid-9690516_1/courses/2020U00020032020084481/Crawling_exercise1.html#%EB%B3%B5%EC%88%98-elements-%EC%B6%94%EC%B6%9C:-find_all()\">¶</a></h3><p>여러개의 태그를 한번에 추출하고자 할때 사용함. 다음의 예제에서는 여러개의 태그를 추출하는 법을 보여주고 있음</p>\n"
   ]
  },
  {
   "cell_type": "code",
   "execution_count": 13,
   "metadata": {},
   "outputs": [],
   "source": [
    "html = \"\"\"\n",
    "<html><body>\n",
    "  <ul>\n",
    "    <li><a href=\"http://www.naver.com\">naver</a></li>\n",
    "    <li><a href=\"http://www.daum.net\">daum</a></li>\n",
    "  </ul>\n",
    "</body></html>\n",
    "\"\"\"\n",
    "\n",
    "soup = BeautifulSoup(html, 'html.parser')"
   ]
  },
  {
   "cell_type": "markdown",
   "metadata": {},
   "source": [
    "\n",
    "<ul>\n",
    "<li>1) <code>find_all()</code> 메서드로 추출하기</li>\n",
    "</ul>\n"
   ]
  },
  {
   "cell_type": "code",
   "execution_count": 14,
   "metadata": {},
   "outputs": [
    {
     "name": "stdout",
     "output_type": "stream",
     "text": [
      "[<a href=\"http://www.naver.com\">naver</a>, <a href=\"http://www.daum.net\">daum</a>] 2\n"
     ]
    }
   ],
   "source": [
    "links = soup.find_all(\"a\") #a 태그 모두 추출, find_all > 리스트로 값이 담아진다.\n",
    "print(links, len(links)) # 결과 리스트와 리스트 값 갯수 출력"
   ]
  },
  {
   "cell_type": "markdown",
   "metadata": {},
   "source": [
    "\n",
    "<ul>\n",
    "<li>2) 링크 목록 출력하기</li>\n",
    "</ul>\n"
   ]
  },
  {
   "cell_type": "code",
   "execution_count": 15,
   "metadata": {},
   "outputs": [
    {
     "name": "stdout",
     "output_type": "stream",
     "text": [
      "naver > http://www.naver.com\n",
      "daum > http://www.daum.net\n"
     ]
    }
   ],
   "source": [
    "for a in links:\n",
    "    href = a.attrs['href'] # attrs: href의 속성에 있는 속성값을 추출\n",
    "    text = a.string #a 태그 안의 값을 string으로 가져오기\n",
    "    print(text, \">\", href)"
   ]
  },
  {
   "cell_type": "markdown",
   "metadata": {},
   "source": [
    "\n",
    "<h1 id=\"3.-Css-Selector\">3. Css Selector<a class=\"anchor-link\" href=\"https://eclass2.ajou.ac.kr/bbcswebdav/pid-677816-dt-content-rid-9690516_1/courses/2020U00020032020084481/Crawling_exercise1.html#3.-Css-Selector\">¶</a></h1><blockquote><p>Css Selector란, 웹상의 요소에 css를 적용하기 위한 문법으로, 즉 요소를 선택하기 위한 패턴입니다.</p>\n",
    "<p>출처: <a href=\"https://www.w3schools.com/cssref/css_selectors.asp\">https://www.w3schools.com/cssref/css_selectors.asp</a></p>\n",
    "</blockquote>\n",
    "<p>앞서 간단하게 태그를 사용하여 데이터를 추출하는 방법에 대해서 살펴보았습니다.</p>\n",
    "<p>하지만 복잡하게 구조화된 웹 사이트에서 자신이 원하는 데이터를 가져오기 위해서는 Css Selector에 대한 이해가 필요합니다.</p>\n",
    "<table>\n",
    "<thead><tr>\n",
    "<th>서식</th>\n",
    "<th>설명</th>\n",
    "</tr>\n",
    "</thead>\n",
    "<tbody>\n",
    "<tr>\n",
    "<td>*</td>\n",
    "<td>모든 요소를 선택</td>\n",
    "</tr>\n",
    "<tr>\n",
    "<td>&lt;요소 이름&gt;</td>\n",
    "<td>요소 이름을 기반으로 선택</td>\n",
    "</tr>\n",
    "<tr>\n",
    "<td>.&lt;클래스 이름&gt;</td>\n",
    "<td>클래스 이름을 기반으로 선택</td>\n",
    "</tr>\n",
    "<tr>\n",
    "<td>#&lt;id 이름&gt;</td>\n",
    "<td>id 속성을 기반으로 선택</td>\n",
    "</tr>\n",
    "</tbody>\n",
    "</table>\n",
    "<h2 id=\"BeautifulSoup에서-Css-Selector-사용하기\"><code>BeautifulSoup</code>에서 Css Selector 사용하기<a class=\"anchor-link\" href=\"https://eclass2.ajou.ac.kr/bbcswebdav/pid-677816-dt-content-rid-9690516_1/courses/2020U00020032020084481/Crawling_exercise1.html#BeautifulSoup%EC%97%90%EC%84%9C-Css-Selector-%EC%82%AC%EC%9A%A9%ED%95%98%EA%B8%B0\">¶</a></h2><p><code>BeautifulSoup</code>에서는 Css Selector로 값을 가져올 수 있도록 <code>find</code>와는 다른 다음과 같은 메서드를 제공합니다.</p>\n",
    "<table>\n",
    "<thead><tr>\n",
    "<th>메서드</th>\n",
    "<th>설명</th>\n",
    "</tr>\n",
    "</thead>\n",
    "<tbody>\n",
    "<tr>\n",
    "<td><code>soup.select_one(선택자)</code></td>\n",
    "<td>CSS 선택자로 요소 하나를 추출합니다.</td>\n",
    "</tr>\n",
    "<tr>\n",
    "<td><code>soup.select(선택자)</code></td>\n",
    "<td>CSS 선택자로 요소 여러 개를 리스트를 추출합니다.</td>\n",
    "</tr>\n",
    "</tbody>\n",
    "</table>\n"
   ]
  },
  {
   "cell_type": "code",
   "execution_count": 16,
   "metadata": {},
   "outputs": [],
   "source": [
    "html = \"\"\"\n",
    "<html><body>\n",
    "<div id=\"meigen\">\n",
    "  <h1>위키북스 도서</h1>\n",
    "  <ul class=\"items\">\n",
    "    <li>유니티 게임 이펙트 입문</li>\n",
    "    <li>스위프트로 시작하는 아이폰 앱 개발 교과서</li>\n",
    "    <li>모던 웹사이트 디자인의 정석</li>\n",
    "  </ul>\n",
    "</div>\n",
    "</body></html>\n",
    "\"\"\"\n",
    "\n",
    "# HTML 분석하기 \n",
    "soup = BeautifulSoup(html, 'html.parser')"
   ]
  },
  {
   "cell_type": "markdown",
   "metadata": {},
   "source": [
    "\n",
    "<ul>\n",
    "<li>필요한 부분을 CSS 쿼리로 추출하기</li>\n",
    "</ul>\n"
   ]
  },
  {
   "cell_type": "code",
   "execution_count": 17,
   "metadata": {},
   "outputs": [
    {
     "name": "stdout",
     "output_type": "stream",
     "text": [
      "h1 = 위키북스 도서\n",
      "li = 유니티 게임 이펙트 입문\n",
      "li = 스위프트로 시작하는 아이폰 앱 개발 교과서\n",
      "li = 모던 웹사이트 디자인의 정석\n"
     ]
    }
   ],
   "source": [
    "# 타이틀 부분 추출하기 --- (※3)\n",
    "h1 = soup.select_one(\"div#meigen > h1\").string # > : 자식 요소\n",
    "#select_one: css selector로 값 한 개 가져오기. \n",
    "# div 태그-id가 meigen의 > h1태그 값을 문자열로 가져오기. \n",
    "\n",
    "print(f\"h1 = {h1}\")\n",
    "\n",
    "# 목록 부분 추출하기 --- (※4)\n",
    "li_list = soup.select(\"div#meigen > ul.items > li\")\n",
    "#select: 복수 개 리스트로 추출 \n",
    "# div 태그-id가 meigen > ul 태그-class:item > li 태그 값\n",
    "\n",
    "for li in li_list:\n",
    "  print(f\"li = {li.string}\")#for문으로 리스트 요소 반환"
   ]
  },
  {
   "cell_type": "markdown",
   "metadata": {},
   "source": [
    "\n",
    "<h1 id=\"4.-활용-예제\">4. 활용 예제<a class=\"anchor-link\" href=\"https://eclass2.ajou.ac.kr/bbcswebdav/pid-677816-dt-content-rid-9690516_1/courses/2020U00020032020084481/Crawling_exercise1.html#4.-%ED%99%9C%EC%9A%A9-%EC%98%88%EC%A0%9C\">¶</a></h1><p>앞서 배운  <code>urllib</code>과 <code>BeautifulSoup</code>를 조합하면, 웹스크레이핑 및 API 요청 작업을 쉽게 수행하실 수 있습니다.</p>\n",
    "<ol>\n",
    "<li>URL을 이용하여 웹으로부터 html을 읽어들임 (<code>urllib</code>)</li>\n",
    "<li>html 분석 및 원하는 데이터를 추출 (<code>BeautifulSoup</code>)</li>\n",
    "</ol>\n"
   ]
  },
  {
   "cell_type": "code",
   "execution_count": 18,
   "metadata": {},
   "outputs": [],
   "source": [
    "from bs4 import BeautifulSoup\n",
    "from urllib import request, parse"
   ]
  },
  {
   "cell_type": "markdown",
   "metadata": {},
   "source": [
    "\n",
    "<h2 id=\"4.1.-네이버-금융---환율-정보\">4.1. 네이버 금융 - 환율 정보<a class=\"anchor-link\" href=\"https://eclass2.ajou.ac.kr/bbcswebdav/pid-677816-dt-content-rid-9690516_1/courses/2020U00020032020084481/Crawling_exercise1.html#4.1.-%EB%84%A4%EC%9D%B4%EB%B2%84-%EA%B8%88%EC%9C%B5---%ED%99%98%EC%9C%A8-%EC%A0%95%EB%B3%B4\">¶</a></h2><ul>\n",
    "<li>다양한 금융 정보가 공개돼 있는 \"네이버 금융\"에서 원/달러 환율 정보를 추출해보자!</li>\n",
    "<li>네이버 금융의 시장 지표 페이지 <a href=\"https://finance.naver.com/marketindex/\">https://finance.naver.com/marketindex/</a></li>\n",
    "<li>다음은 원/달러 환율 정보를 추출하는 프로그램임</li>\n",
    "</ul>\n",
    "<h3 id=\"1)-HTML-가져오기\">1) HTML 가져오기<a class=\"anchor-link\" href=\"https://eclass2.ajou.ac.kr/bbcswebdav/pid-677816-dt-content-rid-9690516_1/courses/2020U00020032020084481/Crawling_exercise1.html#1)-HTML-%EA%B0%80%EC%A0%B8%EC%98%A4%EA%B8%B0\">¶</a></h3>\n"
   ]
  },
  {
   "cell_type": "code",
   "execution_count": 19,
   "metadata": {},
   "outputs": [],
   "source": [
    "url = \"https://finance.naver.com/marketindex/\"\n",
    "res = request.urlopen(url) # 데이터 읽어오기"
   ]
  },
  {
   "cell_type": "markdown",
   "metadata": {},
   "source": [
    "\n",
    "<h3 id=\"2)-HTML-분석하기\">2) HTML 분석하기<a class=\"anchor-link\" href=\"https://eclass2.ajou.ac.kr/bbcswebdav/pid-677816-dt-content-rid-9690516_1/courses/2020U00020032020084481/Crawling_exercise1.html#2)-HTML-%EB%B6%84%EC%84%9D%ED%95%98%EA%B8%B0\">¶</a></h3>\n"
   ]
  },
  {
   "cell_type": "code",
   "execution_count": 20,
   "metadata": {},
   "outputs": [],
   "source": [
    "soup = BeautifulSoup(res, \"html.parser\") #bs4 html 데이터 분석"
   ]
  },
  {
   "cell_type": "markdown",
   "metadata": {},
   "source": [
    "\n",
    "<h3 id=\"3)-원하는-데이터-추출하기\">3) 원하는 데이터 추출하기<a class=\"anchor-link\" href=\"https://eclass2.ajou.ac.kr/bbcswebdav/pid-677816-dt-content-rid-9690516_1/courses/2020U00020032020084481/Crawling_exercise1.html#3)-%EC%9B%90%ED%95%98%EB%8A%94-%EB%8D%B0%EC%9D%B4%ED%84%B0-%EC%B6%94%EC%B6%9C%ED%95%98%EA%B8%B0\">¶</a></h3>\n"
   ]
  },
  {
   "cell_type": "code",
   "execution_count": 21,
   "metadata": {},
   "outputs": [
    {
     "name": "stdout",
     "output_type": "stream",
     "text": [
      "usd/krw = 1,175.00\n"
     ]
    }
   ],
   "source": [
    "price = soup.select_one(\"div.head_info > span.value\").string \n",
    "print(\"usd/krw =\", price)\n",
    "# 미국 환율을 css selector로 가져오기"
   ]
  },
  {
   "cell_type": "markdown",
   "metadata": {},
   "source": [
    "\n",
    "<h2 id=\"4.2.-기상청-RSS\">4.2. 기상청 RSS<a class=\"anchor-link\" href=\"https://eclass2.ajou.ac.kr/bbcswebdav/pid-677816-dt-content-rid-9690516_1/courses/2020U00020032020084481/Crawling_exercise1.html#4.2.-%EA%B8%B0%EC%83%81%EC%B2%AD-RSS\">¶</a></h2><ul>\n",
    "<li>기상청 RSS에서 특정 내용을 추출하는 예제</li>\n",
    "<li>기상청 RSS에서 XML 데이터를 추출하고 XML 내용을 출력</li>\n",
    "<li>기상청의 RSS 서비스에 지역 번호를 지정하여 데이터 요청해보기 <a href=\"http://www.kma.go.kr/weather/forecast/mid-term-rss3.jsp\">http://www.kma.go.kr/weather/forecast/mid-term-rss3.jsp</a><ul>\n",
    "<li>참고: 기상청 RSS <a href=\"http://www.weather.go.kr/weather/lifenindustry/sevice_rss.jsp\">http://www.weather.go.kr/weather/lifenindustry/sevice_rss.jsp</a></li>\n",
    "<ul>\n",
    "<li>파이썬으로 요청 전용 매개변수를 만들 때는 urllib.parse 모듈의 urlencode() 함수를 사용해 매개변수를 URL로 인코딩한다.</li>\n",
    "</ul>\n",
    "    \n",
    "<img src=\"https://i.ibb.co/fq5J1vk/image.png\">\n",
    "\n",
    "<h3 id=\"1)-HTML-가져오기\">1) HTML 가져오기<a class=\"anchor-link\" href=\"https://eclass2.ajou.ac.kr/bbcswebdav/pid-677816-dt-content-rid-9690516_1/courses/2020U00020032020084481/Crawling_exercise1.html#1)-HTML-%EA%B0%80%EC%A0%B8%EC%98%A4%EA%B8%B0\">¶</a></h3>\n"
   ]
  },
  {
   "cell_type": "code",
   "execution_count": 22,
   "metadata": {},
   "outputs": [
    {
     "name": "stdout",
     "output_type": "stream",
     "text": [
      "url= http://www.kma.go.kr/weather/forecast/mid-term-rss3.jsp?stnId=109\n"
     ]
    }
   ],
   "source": [
    "url = \"http://www.kma.go.kr/weather/forecast/mid-term-rss3.jsp\"\n",
    "\n",
    "#매개변수를 URL로 인코딩한다.\n",
    "values = {\n",
    "    'stnId':'109' #서울/경기도 정보만 가져온다.\n",
    "}\n",
    "\n",
    "params=parse.urlencode(values)\n",
    "url += \"?\"+params # URL에 매개변수 추가\n",
    "print(\"url=\", url)\n",
    "\n",
    "res = request.urlopen(url)"
   ]
  },
  {
   "cell_type": "markdown",
   "metadata": {},
   "source": [
    "\n",
    "<h3 id=\"2)-HTML-분석하기\">2) HTML 분석하기<a class=\"anchor-link\" href=\"https://eclass2.ajou.ac.kr/bbcswebdav/pid-677816-dt-content-rid-9690516_1/courses/2020U00020032020084481/Crawling_exercise1.html#2)-HTML-%EB%B6%84%EC%84%9D%ED%95%98%EA%B8%B0\">¶</a></h3>\n"
   ]
  },
  {
   "cell_type": "code",
   "execution_count": 23,
   "metadata": {},
   "outputs": [],
   "source": [
    "soup = BeautifulSoup(res, \"html.parser\")"
   ]
  },
  {
   "cell_type": "markdown",
   "metadata": {},
   "source": [
    "\n",
    "<h3 id=\"3)-원하는-데이터-추출하기\">3) 원하는 데이터 추출하기<a class=\"anchor-link\" href=\"https://eclass2.ajou.ac.kr/bbcswebdav/pid-677816-dt-content-rid-9690516_1/courses/2020U00020032020084481/Crawling_exercise1.html#3)-%EC%9B%90%ED%95%98%EB%8A%94-%EB%8D%B0%EC%9D%B4%ED%84%B0-%EC%B6%94%EC%B6%9C%ED%95%98%EA%B8%B0\">¶</a></h3>\n"
   ]
  },
  {
   "cell_type": "code",
   "execution_count": 24,
   "metadata": {},
   "outputs": [
    {
     "name": "stdout",
     "output_type": "stream",
     "text": [
      "서울,경기도 육상중기예보\n",
      "○ (강수) 10월 1일(목) 오후~2일(금) 오전에는 비가 내리겠습니다.<br />○ (기온) 이번 예보기간 낮 기온은 19~25도로 어제(26일, 24~26도)보다 낮겠고, 아침 기온은 6~17도로 선선하겠습니다.<br />          특히, 내륙을 중심으로 낮과 밤의 기온차가 10도 내외로 크겠습니다.<br />○ (해상) 서해중부해상의 물결은 0.5~2.0m로 일겠습니다.\n"
     ]
    }
   ],
   "source": [
    "header = soup.find(\"header\") #header tag값을 (한 개) 가져온다.\n",
    "\n",
    "title = header.find(\"title\").text # header tag값 중 title 태그 값 한 개를 text 형식으로 가져온다.\n",
    "wf = header.find(\"wf\").text # header tag값 중 wf 태그 값 한 개를 text 형식으로 가져온다.\n",
    "\n",
    "print(title)\n",
    "print(wf)"
   ]
  },
  {
   "cell_type": "markdown",
   "metadata": {},
   "source": [
    "\n",
    "<ul>\n",
    "<li>css selector 기반</li>\n",
    "</ul>\n"
   ]
  },
  {
   "cell_type": "markdown",
   "metadata": {},
   "source": [
    "> 후손 선택자: 자신 밑에 있는 모든 후손들, 띄어쓰기로 구분\n",
    "\n",
    "> 자식 선택자: 자신 바로 밑에 있는 자식 요소들, >로 구분"
   ]
  },
  {
   "cell_type": "code",
   "execution_count": 25,
   "metadata": {},
   "outputs": [
    {
     "name": "stdout",
     "output_type": "stream",
     "text": [
      "서울,경기도 육상중기예보\n",
      "○ (강수) 10월 1일(목) 오후~2일(금) 오전에는 비가 내리겠습니다.<br />○ (기온) 이번 예보기간 낮 기온은 19~25도로 어제(26일, 24~26도)보다 낮겠고, 아침 기온은 6~17도로 선선하겠습니다.<br />          특히, 내륙을 중심으로 낮과 밤의 기온차가 10도 내외로 크겠습니다.<br />○ (해상) 서해중부해상의 물결은 0.5~2.0m로 일겠습니다.\n"
     ]
    }
   ],
   "source": [
    "title = soup.select_one(\"header > title\").text # header 태그의 자식요소 title 태그 값 한 개 \n",
    "wf = header.select_one(\"header wf\").text # header 태그의 후손요소 wf 태그 값 한 개\n",
    "\n",
    "print(title)\n",
    "print(wf)"
   ]
  },
  {
   "cell_type": "markdown",
   "metadata": {},
   "source": [
    "\n",
    "<h2 id=\"4.3.-윤동주-작가의-작품-목록\">4.3. 윤동주 작가의 작품 목록<a class=\"anchor-link\" href=\"https://eclass2.ajou.ac.kr/bbcswebdav/pid-677816-dt-content-rid-9690516_1/courses/2020U00020032020084481/Crawling_exercise1.html#4.3.-%EC%9C%A4%EB%8F%99%EC%A3%BC-%EC%9E%91%EA%B0%80%EC%9D%98-%EC%9E%91%ED%92%88-%EB%AA%A9%EB%A1%9D\">¶</a></h2><ul>\n",
    "<li>위키문헌 (<a href=\"https://ko.wikisource.org/wiki\">https://ko.wikisource.org/wiki</a>) 에 공개되어 있는 윤동주의 작품목록을 가져오기</li>\n",
    "<li>윤동주 위키 (<a href=\"https://ko.wikisource.org/wiki/%EC%A0%80%EC%9E%90:%EC%9C%A4%EB%8F%99%EC%A3%BC\">https://ko.wikisource.org/wiki/%EC%A0%80%EC%9E%90:%EC%9C%A4%EB%8F%99%EC%A3%BC</a>)</li>\n",
    "<li>하늘과 바람과 시 부분을 선택한 후 오른쪽 마우스 이용해 copy selector로 카피하면 다음의 CSS 선택자가 카피됨<ul>\n",
    "<li><code>#mw-content-text &gt; div &gt; ul:nth-child(6) &gt; li &gt; b &gt; a</code></li>\n",
    "</ul>\n",
    "</li>\n",
    "<li>nth-child(n) 은 n 번째 요소를 의미 즉 6번째 요소를 의미, <code>#mw-content-text</code> 내부에 있는 url 태그는 모두 작품과 관련된 태그. 따라서 따로 구분할 필요는 없으며 생략해도 됨. BeautifulSoup는 nth-child 지원하지 않음<ul>\n",
    "<li>Recall PR7 Problem1</li>\n",
    "</ul>\n",
    "</li>\n",
    "</ul>\n"
   ]
  },
  {
   "cell_type": "code",
   "execution_count": 28,
   "metadata": {},
   "outputs": [
    {
     "name": "stdout",
     "output_type": "stream",
     "text": [
      "- 하늘과 바람과 별과 시\n",
      "- 증보판\n",
      "- 서시\n",
      "- 자화상\n",
      "- 소년\n",
      "- 눈 오는 지도\n",
      "- 돌아와 보는 밤\n",
      "- 병원\n",
      "- 새로운 길\n",
      "- 간판 없는 거리\n",
      "- 태초의 아침\n",
      "- 또 태초의 아침\n",
      "- 새벽이 올 때까지\n",
      "- 무서운 시간\n",
      "- 십자가\n",
      "- 바람이 불어\n",
      "- 슬픈 족속\n",
      "- 눈감고 간다\n",
      "- 또 다른 고향\n",
      "- 길\n",
      "- 별 헤는 밤\n",
      "- 흰 그림자\n",
      "- 사랑스런 추억\n",
      "- 흐르는 거리\n",
      "- 쉽게 씌어진 시\n",
      "- 봄\n",
      "- 참회록\n",
      "- 간(肝)\n",
      "- 위로\n",
      "- 팔복\n",
      "- 못자는밤\n",
      "- 달같이\n",
      "- 고추밭\n",
      "- 아우의 인상화\n",
      "- 사랑의 전당\n",
      "- 이적\n",
      "- 비오는 밤\n",
      "- 산골물\n",
      "- 유언\n",
      "- 창\n",
      "- 바다\n",
      "- 비로봉\n",
      "- 산협의 오후\n",
      "- 명상\n",
      "- 소낙비\n",
      "- 한난계\n",
      "- 풍경\n",
      "- 달밤\n",
      "- 장\n",
      "- 밤\n",
      "- 황혼이 바다가 되어\n",
      "- 아침\n",
      "- 빨래\n",
      "- 꿈은 깨어지고\n",
      "- 산림\n",
      "- 이런날\n",
      "- 산상\n",
      "- 양지쪽\n",
      "- 닭\n",
      "- 가슴 1\n",
      "- 가슴 2\n",
      "- 비둘기\n",
      "- 황혼\n",
      "- 남쪽 하늘\n",
      "- 창공\n",
      "- 거리에서\n",
      "- 삶과 죽음\n",
      "- 초한대\n",
      "- 산울림\n",
      "- 해바라기 얼굴\n",
      "- 귀뚜라미와 나와\n",
      "- 애기의 새벽\n",
      "- 햇빛·바람\n",
      "- 반디불\n",
      "- 둘 다\n",
      "- 거짓부리\n",
      "- 눈\n",
      "- 참새\n",
      "- 버선본\n",
      "- 편지\n",
      "- 봄\n",
      "- 무얼 먹구 사나\n",
      "- 굴뚝\n",
      "- 햇비\n",
      "- 빗자루\n",
      "- 기왓장 내외\n",
      "- 오줌싸개 지도\n",
      "- 병아리\n",
      "- 조개껍질\n",
      "- 겨울\n",
      "- 트루게네프의 언덕\n",
      "- 달을 쏘다\n",
      "- 별똥 떨어진 데\n",
      "- 화원에 꽃이 핀다\n",
      "- 종시\n"
     ]
    }
   ],
   "source": [
    "# 뒤의 인코딩 부분은 \"저자:윤동주\"라는 의미입니다.\n",
    "# 따로 입력하지 말고 위키 문헌 홈페이지에 들어간 뒤에 주소를 복사해서 사용하세요.\n",
    "\n",
    "url = \"https://ko.wikisource.org/wiki/%EC%A0%80%EC%9E%90:%EC%9C%A4%EB%8F%99%EC%A3%BC\"\n",
    "res = request.urlopen(url)\n",
    "soup = BeautifulSoup(res, \"html.parser\")\n",
    "\n",
    "# #mw-content-text 바로 아래에 있는 \n",
    "# ul 태그 바로 아래에 있는\n",
    "# li 태그 아래에 있는\n",
    "# a 태그를 모두 선택합니다.\n",
    "a_list = soup.select(\"#mw-content-text ul>li a\")\n",
    "# '#mw-content-text>div.mw-parser-output ul li a '도 된다. 직접 찾은 css selector\n",
    "\n",
    "for a in a_list:\n",
    "    name = a.string #문자열로 가져오기\n",
    "    print(f\"- {name}\")\n",
    "\n",
    "# 리스트 요소 for문으로 하나씩 반환"
   ]
  },
  {
   "cell_type": "markdown",
   "metadata": {},
   "source": [
    "\n",
    "<h1 id=\"일반문제\">일반문제<a class=\"anchor-link\" href=\"https://eclass2.ajou.ac.kr/bbcswebdav/pid-677816-dt-content-rid-9690516_1/courses/2020U00020032020084481/Crawling_exercise1.html#%EC%9D%BC%EB%B0%98%EB%AC%B8%EC%A0%9C\">¶</a></h1><hr/>\n"
   ]
  },
  {
   "cell_type": "code",
   "execution_count": 29,
   "metadata": {},
   "outputs": [],
   "source": [
    "from bs4 import BeautifulSoup\n",
    "from urllib import request"
   ]
  },
  {
   "cell_type": "markdown",
   "metadata": {},
   "source": [
    "\n",
    "<h2 id=\"1.-네이버-뉴스-헤드라인\">1. 네이버 뉴스 헤드라인<a class=\"anchor-link\" href=\"https://eclass2.ajou.ac.kr/bbcswebdav/pid-677816-dt-content-rid-9690516_1/courses/2020U00020032020084481/Crawling_exercise1.html#1.-%EB%84%A4%EC%9D%B4%EB%B2%84-%EB%89%B4%EC%8A%A4-%ED%97%A4%EB%93%9C%EB%9D%BC%EC%9D%B8\">¶</a></h2><p>배운 내용을 바탕으로 네이버 뉴스(<a href=\"https://news.naver.com/)%EC%97%90%EC%84%9C\">https://news.naver.com/)에서</a> 헤드라인 뉴스의 제목을 추출해보고자 합니다.</p>\n",
    "<blockquote><p><strong><em>Q</em></strong>: 다음의 코드에 css selector를 추가하여 최신 기사의 헤드라인을 스크레이핑하는 코드를 완성하시오.</p>\n",
    "</blockquote>\n"
   ]
  },
  {
   "cell_type": "markdown",
   "metadata": {},
   "source": [
    "## 코드 수정!\n",
    "네이버의 크롤링 보안 정책이 바뀌어서 기존 코드로 크롤링이 진행되지 않음. "
   ]
  },
  {
   "cell_type": "markdown",
   "metadata": {},
   "source": [
    "### 1. 기존 코드 (에러남)"
   ]
  },
  {
   "cell_type": "code",
   "execution_count": null,
   "metadata": {},
   "outputs": [],
   "source": [
    "# 기존 코드 > 에러\n",
    "url = \"https://news.naver.com/\"\n",
    "\n",
    "res = request.urlopen(url) # 데이터 읽어오기\n",
    "soup = BeautifulSoup(res, \"html.parser\") #html 분석\n",
    "\n",
    "selector = \"#today_main_news > div.hdline_news > ul > li > div.hdline_article_tit > a\"\n",
    "# 뉴스 헤드라인 css selector 주소\n",
    "\n",
    "for a in soup.select(selector):\n",
    "    title = a.text\n",
    "    print(title)\n",
    "# 리스트 하나하나 요소로 반환하기."
   ]
  },
  {
   "cell_type": "markdown",
   "metadata": {},
   "source": [
    "### 해결 방법 1. 셀레니움(파이어폭스) 이용 \n",
    "> geckodriver.exe 다운 후 해당 path로 이동시켜야 함."
   ]
  },
  {
   "cell_type": "code",
   "execution_count": 42,
   "metadata": {},
   "outputs": [
    {
     "name": "stdout",
     "output_type": "stream",
     "text": [
      "이와중엔 종전선언 논의? 김현종 이어 이번엔 이도훈 美 갔다\n",
      "정총리 \"추석 고향방문 자제 부탁…불법집회엔 무관용\"(종합)\n",
      "\"대단히 미안\" 이틀만에 \"남조선 경고\"…北, NLL 들고나왔다\n",
      "국회 대북규탄결의안 사실상 불발…여야 원내대표 회동 무산(종합)\n",
      "北피격 미스터리 실은 '무궁화 10호'...이틀 늦게 목포 귀항 [영상]\n"
     ]
    }
   ],
   "source": [
    "from selenium.webdriver import Firefox, FirefoxOptions\n",
    "\n",
    "url=\"https://news.naver.com/\"\n",
    "\n",
    "# 파이어폭스를 헤드리스 모드로 설정하기.\n",
    "options = FirefoxOptions()\n",
    "options.add_argument('-headless')\n",
    "# 파이어폭스 드라이버 추출\n",
    "browser = Firefox(options = options)\n",
    "# URL 읽어들이기\n",
    "browser.get(url)\n",
    "\n",
    "selector = \"#today_main_news > div.hdline_news > ul > li > div.hdline_article_tit > a\"\n",
    "# 뉴스 헤드라인 css selector 주소\n",
    "\n",
    "for i in browser.find_elements_by_css_selector(selector):\n",
    "    print(i.text) #text 가져오기\n",
    "browser.quit()"
   ]
  },
  {
   "cell_type": "markdown",
   "metadata": {},
   "source": [
    "### 해결 방법 2. 헤더 정보를 추가\n",
    "\n",
    "headers 정보에  User-Agent 를 넣어주기.\n",
    "\n",
    "* 참고 url\n",
    "\n",
    "https://blog.naver.com/kiddwannabe/221185808375\n",
    "\n",
    "http://www.useragentstring.com/"
   ]
  },
  {
   "cell_type": "code",
   "execution_count": 44,
   "metadata": {},
   "outputs": [],
   "source": [
    "import requests\n",
    "headers = {'User-Agent':'Mozilla/5.0 (Windows NT 6.3; Win64; x64) AppleWebKit/537.36 (KHTML, like Gecko) Chrome/63.0.3239.132 Safari/537.36'}\n",
    "# chrome user agent 정보\n",
    "url ='https://news.naver.com/'\n",
    "html = requests.get(url, headers = headers).text"
   ]
  },
  {
   "cell_type": "code",
   "execution_count": 45,
   "metadata": {},
   "outputs": [
    {
     "name": "stdout",
     "output_type": "stream",
     "text": [
      "\n",
      "                                        北, 우리국민 총살 5일뒤...이도훈은 종전선언 위해 美 갔다\n",
      "                                    \n",
      "\n",
      "                                        \"대단히 미안\" 이틀만에 \"남조선 경고\"…北, NLL 들고나왔다\n",
      "                                    \n",
      "\n",
      "                                        \"광주 독감백신은 못믿겠다\" 주말 비행기 타고 서울 주사 원정\n",
      "                                    \n",
      "\n",
      "                                        국회 대북규탄결의안 사실상 불발…여야 원내대표 회동 무산(종합)\n",
      "                                    \n",
      "\n",
      "                                        美 ITC 배터리 판결 연기에 LG ‘당혹’, SK ‘안도’…재계 \"국가경제 위해 대승적 합의해야\"\n",
      "                                    \n"
     ]
    }
   ],
   "source": [
    "soup = BeautifulSoup(html, \"html.parser\") #html 분석\n",
    "\n",
    "selector = \"#today_main_news > div.hdline_news > ul > li > div.hdline_article_tit > a\"\n",
    "# 뉴스 헤드라인 css selector 주소\n",
    "\n",
    "for a in soup.select(selector):\n",
    "    title = a.text\n",
    "    print(title)\n",
    "# 리스트 하나하나 요소로 반환하기."
   ]
  },
  {
   "cell_type": "markdown",
   "metadata": {},
   "source": [
    "\n",
    "<h2 id=\"2.-시민의-소리-게시판\">2. 시민의 소리 게시판<a class=\"anchor-link\" href=\"https://eclass2.ajou.ac.kr/bbcswebdav/pid-677816-dt-content-rid-9690516_1/courses/2020U00020032020084481/Crawling_exercise1.html#2.-%EC%8B%9C%EB%AF%BC%EC%9D%98-%EC%86%8C%EB%A6%AC-%EA%B2%8C%EC%8B%9C%ED%8C%90\">¶</a></h2><p>다음은 서울시 대공원의 시민의 소리 게시판 입니다.</p>\n",
    "<p><a href=\"https://www.sisul.or.kr/open_content/childrenpark/qna/qnaMsgList.do?pgno=1\">https://www.sisul.or.kr/open_content/childrenpark/qna/qnaMsgList.do?pgno=1</a></p>\n",
    "<p>해당 페이지에 나타난 게시글들의 제목을 수집하고자 합니다.</p>\n",
    "<blockquote><p><strong><em>Q</em></strong>: 다음의 코드에 css selector를 추가하여 해당 페이지에서 게시글의 제목을 스크레이핑하는 코드를 완성하시오. 또한 과제 제출시 하단의 <strong>추가 내용</strong>을 참고하여 수집한 데이터를 csv 형태로 저장하여 해당 csv 파일도 함께 제출하시오.</p>\n",
    "</blockquote>\n"
   ]
  },
  {
   "cell_type": "code",
   "execution_count": 35,
   "metadata": {},
   "outputs": [
    {
     "name": "stdout",
     "output_type": "stream",
     "text": [
      "['관리인 마스크', '어린이 대공원 쓰레기집하장 내 쓰레기 제거 요청 ', '마스크미착용으로 축구 및, 베트민턴 치는 인원이 너무 많아요.', '공원 내 마스크 착용', '청춘핫도그 점장님과 직원분께 감사드립니다', '카드결제를 거부하는 매점을 신고합니다', '참얼굴만큼예쁘고맘씨좋은 여직원을 만나 고마워서 글을남깁니다.', '놀이동산에서 불쾌함을 겪었습니다', '서문 플래카드', '간만에 친절한 아가씨를 만났어요.(놀이동산)'] ['https://www.sisul.or.kr/open_content/childrenpark/qna/qnaMsgDetail.do;jsessionid=awqFtacIjSK7GAlaGbajjkc0bpOUHGc1oYvUvgtVr3zJCpGtVykhAXnVcBiOUDZa.etisw2_servlet_user?qnaid=QNAS20200917000010&pgno=1', 'https://www.sisul.or.kr/open_content/childrenpark/qna/qnaMsgDetail.do;jsessionid=awqFtacIjSK7GAlaGbajjkc0bpOUHGc1oYvUvgtVr3zJCpGtVykhAXnVcBiOUDZa.etisw2_servlet_user?qnaid=QNAS20200902000003&pgno=1', 'https://www.sisul.or.kr/open_content/childrenpark/qna/qnaMsgDetail.do;jsessionid=awqFtacIjSK7GAlaGbajjkc0bpOUHGc1oYvUvgtVr3zJCpGtVykhAXnVcBiOUDZa.etisw2_servlet_user?qnaid=QNAS20200826000002&pgno=1', 'https://www.sisul.or.kr/open_content/childrenpark/qna/qnaMsgDetail.do;jsessionid=awqFtacIjSK7GAlaGbajjkc0bpOUHGc1oYvUvgtVr3zJCpGtVykhAXnVcBiOUDZa.etisw2_servlet_user?qnaid=QNAS20200825000003&pgno=1', 'https://www.sisul.or.kr/open_content/childrenpark/qna/qnaMsgDetail.do;jsessionid=awqFtacIjSK7GAlaGbajjkc0bpOUHGc1oYvUvgtVr3zJCpGtVykhAXnVcBiOUDZa.etisw2_servlet_user?qnaid=QNAS20200818000009&pgno=1', 'https://www.sisul.or.kr/open_content/childrenpark/qna/qnaMsgDetail.do;jsessionid=awqFtacIjSK7GAlaGbajjkc0bpOUHGc1oYvUvgtVr3zJCpGtVykhAXnVcBiOUDZa.etisw2_servlet_user?qnaid=QNAS20200816000002&pgno=1', 'https://www.sisul.or.kr/open_content/childrenpark/qna/qnaMsgDetail.do;jsessionid=awqFtacIjSK7GAlaGbajjkc0bpOUHGc1oYvUvgtVr3zJCpGtVykhAXnVcBiOUDZa.etisw2_servlet_user?qnaid=QNAS20200813000003&pgno=1', 'https://www.sisul.or.kr/open_content/childrenpark/qna/qnaMsgDetail.do;jsessionid=awqFtacIjSK7GAlaGbajjkc0bpOUHGc1oYvUvgtVr3zJCpGtVykhAXnVcBiOUDZa.etisw2_servlet_user?qnaid=QNAS20200813000002&pgno=1', 'https://www.sisul.or.kr/open_content/childrenpark/qna/qnaMsgDetail.do;jsessionid=awqFtacIjSK7GAlaGbajjkc0bpOUHGc1oYvUvgtVr3zJCpGtVykhAXnVcBiOUDZa.etisw2_servlet_user?qnaid=QNAS20200730000004&pgno=1', 'https://www.sisul.or.kr/open_content/childrenpark/qna/qnaMsgDetail.do;jsessionid=awqFtacIjSK7GAlaGbajjkc0bpOUHGc1oYvUvgtVr3zJCpGtVykhAXnVcBiOUDZa.etisw2_servlet_user?qnaid=QNAS20200728000002&pgno=1']\n"
     ]
    }
   ],
   "source": [
    "url_head = \"https://www.sisul.or.kr\"\n",
    "\n",
    "url_board = url_head + \"/open_content/childrenpark/qna/qnaMsgList.do?pgno=1\"\n",
    "# 호스트 이름 (header)에 경로와 데이터 추가 \n",
    "\n",
    "\n",
    "res = request.urlopen(url_board)\n",
    "soup = BeautifulSoup(res, \"html.parser\")\n",
    "\n",
    "# selector 지정 \n",
    "selector = \"#detail_con > div.generalboard > table > tbody >tr> td.left.title a\"\n",
    "titles = []\n",
    "links = []\n",
    "for a in soup.select(selector): # selector로 지정한 모든 값 가져오기\n",
    "    titles.append(a.text) # title 리스트에 a 태그 값을 text로 넣기.\n",
    "    links.append(url_head + a.attrs[\"href\"]) \n",
    "    # a 태그 요소 중 href 값을 가져와서 url 호스트 이름 (header)에 붙여주어 full url 주소를 얻는다.\n",
    "    # links 리스트에 제목들에 해당하는 full ulr 주소들을 넣는다. \n",
    "    \n",
    "print(titles, links)\n"
   ]
  },
  {
   "cell_type": "markdown",
   "metadata": {},
   "source": [
    "\n",
    "<h3 id=\"추가-내용\">추가 내용<a class=\"anchor-link\" href=\"https://eclass2.ajou.ac.kr/bbcswebdav/pid-677816-dt-content-rid-9690516_1/courses/2020U00020032020084481/Crawling_exercise1.html#%EC%B6%94%EA%B0%80-%EB%82%B4%EC%9A%A9\">¶</a></h3><p>수집된 자료를 데이터프레임으로 만들어 csv로 저장하는 것이 일반적입니다.</p>\n"
   ]
  },
  {
   "cell_type": "code",
   "execution_count": 36,
   "metadata": {},
   "outputs": [
    {
     "data": {
      "text/html": [
       "<div>\n",
       "<style scoped>\n",
       "    .dataframe tbody tr th:only-of-type {\n",
       "        vertical-align: middle;\n",
       "    }\n",
       "\n",
       "    .dataframe tbody tr th {\n",
       "        vertical-align: top;\n",
       "    }\n",
       "\n",
       "    .dataframe thead th {\n",
       "        text-align: right;\n",
       "    }\n",
       "</style>\n",
       "<table border=\"1\" class=\"dataframe\">\n",
       "  <thead>\n",
       "    <tr style=\"text-align: right;\">\n",
       "      <th></th>\n",
       "      <th>title</th>\n",
       "      <th>link</th>\n",
       "    </tr>\n",
       "  </thead>\n",
       "  <tbody>\n",
       "    <tr>\n",
       "      <th>0</th>\n",
       "      <td>관리인 마스크</td>\n",
       "      <td>https://www.sisul.or.kr/open_content/childrenp...</td>\n",
       "    </tr>\n",
       "    <tr>\n",
       "      <th>1</th>\n",
       "      <td>어린이 대공원 쓰레기집하장 내 쓰레기 제거 요청</td>\n",
       "      <td>https://www.sisul.or.kr/open_content/childrenp...</td>\n",
       "    </tr>\n",
       "    <tr>\n",
       "      <th>2</th>\n",
       "      <td>마스크미착용으로 축구 및, 베트민턴 치는 인원이 너무 많아요.</td>\n",
       "      <td>https://www.sisul.or.kr/open_content/childrenp...</td>\n",
       "    </tr>\n",
       "    <tr>\n",
       "      <th>3</th>\n",
       "      <td>공원 내 마스크 착용</td>\n",
       "      <td>https://www.sisul.or.kr/open_content/childrenp...</td>\n",
       "    </tr>\n",
       "    <tr>\n",
       "      <th>4</th>\n",
       "      <td>청춘핫도그 점장님과 직원분께 감사드립니다</td>\n",
       "      <td>https://www.sisul.or.kr/open_content/childrenp...</td>\n",
       "    </tr>\n",
       "  </tbody>\n",
       "</table>\n",
       "</div>"
      ],
      "text/plain": [
       "                                title  \\\n",
       "0                             관리인 마스크   \n",
       "1         어린이 대공원 쓰레기집하장 내 쓰레기 제거 요청    \n",
       "2  마스크미착용으로 축구 및, 베트민턴 치는 인원이 너무 많아요.   \n",
       "3                         공원 내 마스크 착용   \n",
       "4              청춘핫도그 점장님과 직원분께 감사드립니다   \n",
       "\n",
       "                                                link  \n",
       "0  https://www.sisul.or.kr/open_content/childrenp...  \n",
       "1  https://www.sisul.or.kr/open_content/childrenp...  \n",
       "2  https://www.sisul.or.kr/open_content/childrenp...  \n",
       "3  https://www.sisul.or.kr/open_content/childrenp...  \n",
       "4  https://www.sisul.or.kr/open_content/childrenp...  "
      ]
     },
     "execution_count": 36,
     "metadata": {},
     "output_type": "execute_result"
    }
   ],
   "source": [
    "import pandas as pd # pandas 모듈 \n",
    "\n",
    "\n",
    "board_df = pd.DataFrame({\"title\": titles, \"link\": links}) \n",
    "# title, link feature에 따른 값을 데이터프레임으로 만든다. \n",
    "board_df.head() #head()로 상위 5개 행을 보여준다. "
   ]
  },
  {
   "cell_type": "code",
   "execution_count": 37,
   "metadata": {},
   "outputs": [],
   "source": [
    "board_df.to_csv(\"board.csv\", index=False)\n",
    "# 데이터프레임을 csv 파일로 변환해서 저장한다."
   ]
  }
 ],
 "metadata": {
  "kernelspec": {
   "display_name": "Python 3",
   "language": "python",
   "name": "python3"
  },
  "language_info": {
   "codemirror_mode": {
    "name": "ipython",
    "version": 3
   },
   "file_extension": ".py",
   "mimetype": "text/x-python",
   "name": "python",
   "nbconvert_exporter": "python",
   "pygments_lexer": "ipython3",
   "version": "3.8.3"
  }
 },
 "nbformat": 4,
 "nbformat_minor": 1
}
