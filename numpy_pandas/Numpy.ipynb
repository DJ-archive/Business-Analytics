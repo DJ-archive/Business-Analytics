{
 "cells": [
  {
   "cell_type": "markdown",
   "metadata": {},
   "source": [
    "\n",
    "<h1 id=\"Numpy-기초연습문제\">Numpy 기초연습문제<a class=\"anchor-link\" href=\"https://eclass2.ajou.ac.kr/bbcswebdav/pid-698126-dt-content-rid-10115456_1/courses/2020U00020032020084481/Numpy_exercise.html#Numpy-%EA%B8%B0%EC%B4%88%EC%97%B0%EC%8A%B5%EB%AC%B8%EC%A0%9C\">¶</a></h1><hr/>\n"
   ]
  },
  {
   "cell_type": "code",
   "execution_count": 1,
   "metadata": {},
   "outputs": [],
   "source": [
    "import numpy as np"
   ]
  },
  {
   "cell_type": "markdown",
   "metadata": {},
   "source": [
    "\n",
    "<h3 id=\"1.-np.zeros를-이용하여-행이-3,-열이-4인-ndarray를-생성하시오.-이-때-생성된-ndarray의-이름은-a가-되도록-한다.\">1. np.zeros를 이용하여 행이 3, 열이 4인 ndarray를 생성하시오. 이 때 생성된 ndarray의 이름은 a가 되도록 한다.<a class=\"anchor-link\" href=\"https://eclass2.ajou.ac.kr/bbcswebdav/pid-698126-dt-content-rid-10115456_1/courses/2020U00020032020084481/Numpy_exercise.html#1.-np.zeros%EB%A5%BC-%EC%9D%B4%EC%9A%A9%ED%95%98%EC%97%AC-%ED%96%89%EC%9D%B4-3,-%EC%97%B4%EC%9D%B4-4%EC%9D%B8-ndarray%EB%A5%BC-%EC%83%9D%EC%84%B1%ED%95%98%EC%8B%9C%EC%98%A4.-%EC%9D%B4-%EB%95%8C-%EC%83%9D%EC%84%B1%EB%90%9C-ndarray%EC%9D%98-%EC%9D%B4%EB%A6%84%EC%9D%80-a%EA%B0%80-%EB%90%98%EB%8F%84%EB%A1%9D-%ED%95%9C%EB%8B%A4.\">¶</a></h3>\n"
   ]
  },
  {
   "cell_type": "code",
   "execution_count": 3,
   "metadata": {},
   "outputs": [
    {
     "data": {
      "text/plain": [
       "array([[0., 0., 0., 0.],\n",
       "       [0., 0., 0., 0.],\n",
       "       [0., 0., 0., 0.]])"
      ]
     },
     "execution_count": 3,
     "metadata": {},
     "output_type": "execute_result"
    }
   ],
   "source": [
    "a = np.zeros((3, 4)) #np.zeros : 모든 요소가 0인 ndarray 반환\n",
    "a"
   ]
  },
  {
   "cell_type": "markdown",
   "metadata": {},
   "source": [
    "\n",
    "<h3 id=\"2.-위에서-생성한-ndarray-a에-대하여,-다중-for-문을-이용하여-아래와-같은-값을-갖도록-초기화하시오.\">2. 위에서 생성한 ndarray a에 대하여, 다중 for 문을 이용하여 아래와 같은 값을 갖도록 초기화하시오.<a class=\"anchor-link\" href=\"https://eclass2.ajou.ac.kr/bbcswebdav/pid-698126-dt-content-rid-10115456_1/courses/2020U00020032020084481/Numpy_exercise.html#2.-%EC%9C%84%EC%97%90%EC%84%9C-%EC%83%9D%EC%84%B1%ED%95%9C-ndarray-a%EC%97%90-%EB%8C%80%ED%95%98%EC%97%AC,-%EB%8B%A4%EC%A4%91-for-%EB%AC%B8%EC%9D%84-%EC%9D%B4%EC%9A%A9%ED%95%98%EC%97%AC-%EC%95%84%EB%9E%98%EC%99%80-%EA%B0%99%EC%9D%80-%EA%B0%92%EC%9D%84-%EA%B0%96%EB%8F%84%EB%A1%9D-%EC%B4%88%EA%B8%B0%ED%99%94%ED%95%98%EC%8B%9C%EC%98%A4.\">¶</a></h3><div class=\"highlight\"><pre><span></span><span class=\"n\">array</span><span class=\"p\">([[</span> <span class=\"mf\">1.</span><span class=\"p\">,</span>  <span class=\"mf\">2.</span><span class=\"p\">,</span>  <span class=\"mf\">3.</span><span class=\"p\">,</span>  <span class=\"mf\">4.</span><span class=\"p\">],</span>\n",
    "       <span class=\"p\">[</span> <span class=\"mf\">5.</span><span class=\"p\">,</span>  <span class=\"mf\">6.</span><span class=\"p\">,</span>  <span class=\"mf\">7.</span><span class=\"p\">,</span>  <span class=\"mf\">8.</span><span class=\"p\">],</span>\n",
    "       <span class=\"p\">[</span> <span class=\"mf\">9.</span><span class=\"p\">,</span> <span class=\"mf\">10.</span><span class=\"p\">,</span> <span class=\"mf\">11.</span><span class=\"p\">,</span> <span class=\"mf\">12.</span><span class=\"p\">]])</span>\n",
    "</pre></div>\n"
   ]
  },
  {
   "cell_type": "code",
   "execution_count": 7,
   "metadata": {},
   "outputs": [
    {
     "data": {
      "text/plain": [
       "array([[ 1.,  2.,  3.,  4.],\n",
       "       [ 5.,  6.,  7.,  8.],\n",
       "       [ 9., 10., 11., 12.]])"
      ]
     },
     "execution_count": 7,
     "metadata": {},
     "output_type": "execute_result"
    }
   ],
   "source": [
    "#.shape : array의 구성을 보여줌. ex. 행, 열\n",
    "# a.shape: (3,4)\n",
    "for i in range(a.shape[0]):  #a.shape[0]: 3 # range(3): 0,1,2\n",
    "    for j in range(a.shape[1]): #a.shape[1]: 4 # range(4): 0,1,2,3\n",
    "        a[i, j] = i*4 + j + 1 # 요소의 값에 대한 수식\n",
    "a"
   ]
  },
  {
   "cell_type": "code",
   "execution_count": 8,
   "metadata": {},
   "outputs": [
    {
     "data": {
      "text/plain": [
       "array([[ 1.,  2.,  3.,  4.],\n",
       "       [ 5.,  6.,  7.,  8.],\n",
       "       [ 9., 10., 11., 12.]])"
      ]
     },
     "execution_count": 8,
     "metadata": {},
     "output_type": "execute_result"
    }
   ],
   "source": [
    "num = 1\n",
    "for i in range(a.shape[0]):\n",
    "    for j in range(a.shape[1]):\n",
    "        a[i, j] =  num # a[0,0]: indexing 0행 0열 (1행 1열)에 대해 1을 부과한다.\n",
    "        num += 1 # num을 1씩 증가시킨다. \n",
    "a # for문의 결과값은 위와 같다."
   ]
  },
  {
   "cell_type": "markdown",
   "metadata": {},
   "source": [
    "\n",
    "<h3 id=\"3.-초기화한-a로부터-값-7을-꺼내도록-인덱싱하시오.\">3. 초기화한 a로부터 값 7을 꺼내도록 인덱싱하시오.<a class=\"anchor-link\" href=\"https://eclass2.ajou.ac.kr/bbcswebdav/pid-698126-dt-content-rid-10115456_1/courses/2020U00020032020084481/Numpy_exercise.html#3.-%EC%B4%88%EA%B8%B0%ED%99%94%ED%95%9C-a%EB%A1%9C%EB%B6%80%ED%84%B0-%EA%B0%92-7%EC%9D%84-%EA%BA%BC%EB%82%B4%EB%8F%84%EB%A1%9D-%EC%9D%B8%EB%8D%B1%EC%8B%B1%ED%95%98%EC%8B%9C%EC%98%A4.\">¶</a></h3>\n"
   ]
  },
  {
   "cell_type": "code",
   "execution_count": 9,
   "metadata": {},
   "outputs": [
    {
     "data": {
      "text/plain": [
       "7.0"
      ]
     },
     "execution_count": 9,
     "metadata": {},
     "output_type": "execute_result"
    }
   ],
   "source": [
    "a[1, 2] #indexing은 0부터 시작하므로 7을 꺼내려면, a[1,2]을 해야한다."
   ]
  },
  {
   "cell_type": "markdown",
   "metadata": {},
   "source": [
    "\n",
    "<h3 id=\"4.-a에서-아래와-같이-둘째-행을-꺼내도록-인덱싱하시오.-단-차원이-유지되어야-한다.\">4. a에서 아래와 같이 둘째 행을 꺼내도록 인덱싱하시오. 단 차원이 유지되어야 한다.<a class=\"anchor-link\" href=\"https://eclass2.ajou.ac.kr/bbcswebdav/pid-698126-dt-content-rid-10115456_1/courses/2020U00020032020084481/Numpy_exercise.html#4.-a%EC%97%90%EC%84%9C-%EC%95%84%EB%9E%98%EC%99%80-%EA%B0%99%EC%9D%B4-%EB%91%98%EC%A7%B8-%ED%96%89%EC%9D%84-%EA%BA%BC%EB%82%B4%EB%8F%84%EB%A1%9D-%EC%9D%B8%EB%8D%B1%EC%8B%B1%ED%95%98%EC%8B%9C%EC%98%A4.-%EB%8B%A8-%EC%B0%A8%EC%9B%90%EC%9D%B4-%EC%9C%A0%EC%A7%80%EB%90%98%EC%96%B4%EC%95%BC-%ED%95%9C%EB%8B%A4.\">¶</a></h3><p><code>array([[5., 6., 7., 8.]])</code></p>\n"
   ]
  },
  {
   "cell_type": "code",
   "execution_count": 10,
   "metadata": {},
   "outputs": [
    {
     "data": {
      "text/plain": [
       "(3, 4)"
      ]
     },
     "execution_count": 10,
     "metadata": {},
     "output_type": "execute_result"
    }
   ],
   "source": [
    "a.shape #shape를 통해 a의 행과 열 구성을 본다. > 3행 4열"
   ]
  },
  {
   "cell_type": "code",
   "execution_count": 11,
   "metadata": {},
   "outputs": [
    {
     "data": {
      "text/plain": [
       "array([[5., 6., 7., 8.]])"
      ]
     },
     "execution_count": 11,
     "metadata": {},
     "output_type": "execute_result"
    }
   ],
   "source": [
    "a[[1], :] # a의 indexing 1행 (2번째), 모든 열의값을 가져온다. "
   ]
  },
  {
   "cell_type": "markdown",
   "metadata": {},
   "source": [
    "\n",
    "<h3 id=\"5.-a에서-아래와-같이-둘째-열과-셋째-열이-나오도록-인덱싱하시오.\">5. a에서 아래와 같이 둘째 열과 셋째 열이 나오도록 인덱싱하시오.<a class=\"anchor-link\" href=\"https://eclass2.ajou.ac.kr/bbcswebdav/pid-698126-dt-content-rid-10115456_1/courses/2020U00020032020084481/Numpy_exercise.html#5.-a%EC%97%90%EC%84%9C-%EC%95%84%EB%9E%98%EC%99%80-%EA%B0%99%EC%9D%B4-%EB%91%98%EC%A7%B8-%EC%97%B4%EA%B3%BC-%EC%85%8B%EC%A7%B8-%EC%97%B4%EC%9D%B4-%EB%82%98%EC%98%A4%EB%8F%84%EB%A1%9D-%EC%9D%B8%EB%8D%B1%EC%8B%B1%ED%95%98%EC%8B%9C%EC%98%A4.\">¶</a></h3><div class=\"highlight\"><pre><span></span><span class=\"n\">array</span><span class=\"p\">([[</span> <span class=\"mf\">2.</span><span class=\"p\">,</span>  <span class=\"mf\">3.</span><span class=\"p\">],</span>\n",
    "       <span class=\"p\">[</span> <span class=\"mf\">6.</span><span class=\"p\">,</span>  <span class=\"mf\">7.</span><span class=\"p\">],</span>\n",
    "       <span class=\"p\">[</span><span class=\"mf\">10.</span><span class=\"p\">,</span> <span class=\"mf\">11.</span><span class=\"p\">]])</span>\n",
    "</pre></div>\n"
   ]
  },
  {
   "cell_type": "code",
   "execution_count": 13,
   "metadata": {},
   "outputs": [
    {
     "data": {
      "text/plain": [
       "array([[ 2.,  3.],\n",
       "       [ 6.,  7.],\n",
       "       [10., 11.]])"
      ]
     },
     "execution_count": 13,
     "metadata": {},
     "output_type": "execute_result"
    }
   ],
   "source": [
    "a[:,[1, 2]] #모든 행, indexing 1,2번째 열 (2,3번째)"
   ]
  },
  {
   "cell_type": "markdown",
   "metadata": {},
   "source": [
    "\n",
    "<h3 id=\"6.-아래와-같이-a에서-6보다-작거나-같은-값들이-나오도록-불리안-인덱싱을-하시오.\">6. 아래와 같이 a에서 6보다 작거나 같은 값들이 나오도록 불리안 인덱싱을 하시오.<a class=\"anchor-link\" href=\"https://eclass2.ajou.ac.kr/bbcswebdav/pid-698126-dt-content-rid-10115456_1/courses/2020U00020032020084481/Numpy_exercise.html#6.-%EC%95%84%EB%9E%98%EC%99%80-%EA%B0%99%EC%9D%B4-a%EC%97%90%EC%84%9C-6%EB%B3%B4%EB%8B%A4-%EC%9E%91%EA%B1%B0%EB%82%98-%EA%B0%99%EC%9D%80-%EA%B0%92%EB%93%A4%EC%9D%B4-%EB%82%98%EC%98%A4%EB%8F%84%EB%A1%9D-%EB%B6%88%EB%A6%AC%EC%95%88-%EC%9D%B8%EB%8D%B1%EC%8B%B1%EC%9D%84-%ED%95%98%EC%8B%9C%EC%98%A4.\">¶</a></h3><div class=\"highlight\"><pre><span></span><span class=\"n\">array</span><span class=\"p\">([</span><span class=\"mf\">1.</span><span class=\"p\">,</span> <span class=\"mf\">2.</span><span class=\"p\">,</span> <span class=\"mf\">3.</span><span class=\"p\">,</span> <span class=\"mf\">4.</span><span class=\"p\">,</span> <span class=\"mf\">5.</span><span class=\"p\">,</span> <span class=\"mf\">6.</span><span class=\"p\">])</span>\n",
    "</pre></div>\n"
   ]
  },
  {
   "cell_type": "code",
   "execution_count": 16,
   "metadata": {},
   "outputs": [
    {
     "data": {
      "text/plain": [
       "array([1., 2., 3., 4., 5., 6.])"
      ]
     },
     "execution_count": 16,
     "metadata": {},
     "output_type": "execute_result"
    }
   ],
   "source": [
    "result = np.asarray([a[i, j] for i in range(a.shape[0]) for  j in range(a.shape[1]) if a[i, j] <= 6])\n",
    "# 복잡하게 이중for문을 적용한 수식\n",
    "# 모든 array의 구성요소 값이 6이하인 것들만 가져온다. \n",
    "result"
   ]
  },
  {
   "cell_type": "code",
   "execution_count": 17,
   "metadata": {},
   "outputs": [
    {
     "data": {
      "text/plain": [
       "array([1., 2., 3., 4., 5., 6.])"
      ]
     },
     "execution_count": 17,
     "metadata": {},
     "output_type": "execute_result"
    }
   ],
   "source": [
    "a[a <= 6] #바로 조건식을 []에 넣어서 조건이 true가 되는 값을 indexing할 수 있다."
   ]
  },
  {
   "cell_type": "markdown",
   "metadata": {},
   "source": [
    "\n",
    "<h3 id=\"7.-np.random-패키지를-이용하여-0에서-1사이의-값이-무작위로-생성된,-행이-3-열이-4인-ndarray를-생성하시오.-이-때-생성된-ndarray의-이름은-b가-되도록-한다.\">7. np.random 패키지를 이용하여 0에서 1사이의 값이 무작위로 생성된, 행이 3 열이 4인 ndarray를 생성하시오. 이 때 생성된 ndarray의 이름은 b가 되도록 한다.<a class=\"anchor-link\" href=\"https://eclass2.ajou.ac.kr/bbcswebdav/pid-698126-dt-content-rid-10115456_1/courses/2020U00020032020084481/Numpy_exercise.html#7.-np.random-%ED%8C%A8%ED%82%A4%EC%A7%80%EB%A5%BC-%EC%9D%B4%EC%9A%A9%ED%95%98%EC%97%AC-0%EC%97%90%EC%84%9C-1%EC%82%AC%EC%9D%B4%EC%9D%98-%EA%B0%92%EC%9D%B4-%EB%AC%B4%EC%9E%91%EC%9C%84%EB%A1%9C-%EC%83%9D%EC%84%B1%EB%90%9C,-%ED%96%89%EC%9D%B4-3-%EC%97%B4%EC%9D%B4-4%EC%9D%B8-ndarray%EB%A5%BC-%EC%83%9D%EC%84%B1%ED%95%98%EC%8B%9C%EC%98%A4.-%EC%9D%B4-%EB%95%8C-%EC%83%9D%EC%84%B1%EB%90%9C-ndarray%EC%9D%98-%EC%9D%B4%EB%A6%84%EC%9D%80-b%EA%B0%80-%EB%90%98%EB%8F%84%EB%A1%9D-%ED%95%9C%EB%8B%A4.\">¶</a></h3>\n"
   ]
  },
  {
   "cell_type": "code",
   "execution_count": 18,
   "metadata": {},
   "outputs": [
    {
     "data": {
      "text/plain": [
       "array([[0.53791583, 0.09562713, 0.03983646, 0.20692018],\n",
       "       [0.86163813, 0.82681381, 0.60243905, 0.13144913],\n",
       "       [0.78832582, 0.3298056 , 0.98922044, 0.5165783 ]])"
      ]
     },
     "execution_count": 18,
     "metadata": {},
     "output_type": "execute_result"
    }
   ],
   "source": [
    "b = np.random.random((3, 4)) #random 패키지 \n",
    "b"
   ]
  },
  {
   "cell_type": "markdown",
   "metadata": {},
   "source": [
    "\n",
    "<h3 id=\"8.-a와-b의-요소곱을-하여-c에-저장하시오.\">8. a와 b의 요소곱을 하여 c에 저장하시오.<a class=\"anchor-link\" href=\"https://eclass2.ajou.ac.kr/bbcswebdav/pid-698126-dt-content-rid-10115456_1/courses/2020U00020032020084481/Numpy_exercise.html#8.-a%EC%99%80-b%EC%9D%98-%EC%9A%94%EC%86%8C%EA%B3%B1%EC%9D%84-%ED%95%98%EC%97%AC-c%EC%97%90-%EC%A0%80%EC%9E%A5%ED%95%98%EC%8B%9C%EC%98%A4.\">¶</a></h3>\n"
   ]
  },
  {
   "cell_type": "code",
   "execution_count": 19,
   "metadata": {},
   "outputs": [
    {
     "data": {
      "text/plain": [
       "array([[ 0.53791583,  0.19125427,  0.11950938,  0.82768074],\n",
       "       [ 4.30819066,  4.96088288,  4.21707334,  1.05159307],\n",
       "       [ 7.09493235,  3.29805597, 10.88142483,  6.19893956]])"
      ]
     },
     "execution_count": 19,
     "metadata": {},
     "output_type": "execute_result"
    }
   ],
   "source": [
    "c = a * b #같은 위치에 있는 요소들끼리 곱한다.\n",
    "c"
   ]
  },
  {
   "cell_type": "markdown",
   "metadata": {},
   "source": [
    "\n",
    "<h3 id=\"9.-b의-전치행렬을-구하여-d에-저장하시오.\">9. b의 전치행렬을 구하여 d에 저장하시오.<a class=\"anchor-link\" href=\"https://eclass2.ajou.ac.kr/bbcswebdav/pid-698126-dt-content-rid-10115456_1/courses/2020U00020032020084481/Numpy_exercise.html#9.-b%EC%9D%98-%EC%A0%84%EC%B9%98%ED%96%89%EB%A0%AC%EC%9D%84-%EA%B5%AC%ED%95%98%EC%97%AC-d%EC%97%90-%EC%A0%80%EC%9E%A5%ED%95%98%EC%8B%9C%EC%98%A4.\">¶</a></h3>\n"
   ]
  },
  {
   "cell_type": "code",
   "execution_count": 20,
   "metadata": {},
   "outputs": [
    {
     "data": {
      "text/plain": [
       "array([[0.53791583, 0.86163813, 0.78832582],\n",
       "       [0.09562713, 0.82681381, 0.3298056 ],\n",
       "       [0.03983646, 0.60243905, 0.98922044],\n",
       "       [0.20692018, 0.13144913, 0.5165783 ]])"
      ]
     },
     "execution_count": 20,
     "metadata": {},
     "output_type": "execute_result"
    }
   ],
   "source": [
    "d = b.T #.T를 통해 전치행렬을 구한다.\n",
    "d"
   ]
  },
  {
   "cell_type": "code",
   "execution_count": 21,
   "metadata": {},
   "outputs": [
    {
     "data": {
      "text/plain": [
       "(4, 3)"
      ]
     },
     "execution_count": 21,
     "metadata": {},
     "output_type": "execute_result"
    }
   ],
   "source": [
    "d.shape # 기존의 (3,4) > 전치행렬 (4,3)로 바뀐 것을 확인할 수 있다."
   ]
  },
  {
   "cell_type": "markdown",
   "metadata": {},
   "source": [
    "\n",
    "<h3 id=\"10.-a와-d에-대하여-각-차원의-크기를-출력하시오.\">10. a와 d에 대하여 각 차원의 크기를 출력하시오.<a class=\"anchor-link\" href=\"https://eclass2.ajou.ac.kr/bbcswebdav/pid-698126-dt-content-rid-10115456_1/courses/2020U00020032020084481/Numpy_exercise.html#10.-a%EC%99%80-d%EC%97%90-%EB%8C%80%ED%95%98%EC%97%AC-%EA%B0%81-%EC%B0%A8%EC%9B%90%EC%9D%98-%ED%81%AC%EA%B8%B0%EB%A5%BC-%EC%B6%9C%EB%A0%A5%ED%95%98%EC%8B%9C%EC%98%A4.\">¶</a></h3>\n"
   ]
  },
  {
   "cell_type": "code",
   "execution_count": 22,
   "metadata": {},
   "outputs": [
    {
     "name": "stdout",
     "output_type": "stream",
     "text": [
      "(3, 4) (4, 3)\n"
     ]
    }
   ],
   "source": [
    "print(a.shape, d.shape)"
   ]
  },
  {
   "cell_type": "markdown",
   "metadata": {},
   "source": [
    "\n",
    "<h3 id=\"11.-a와-d의-행렬곱을-계산하여-e에-저장하시오.\">11. a와 d의 행렬곱을 계산하여 e에 저장하시오.<a class=\"anchor-link\" href=\"https://eclass2.ajou.ac.kr/bbcswebdav/pid-698126-dt-content-rid-10115456_1/courses/2020U00020032020084481/Numpy_exercise.html#11.-a%EC%99%80-d%EC%9D%98-%ED%96%89%EB%A0%AC%EA%B3%B1%EC%9D%84-%EA%B3%84%EC%82%B0%ED%95%98%EC%97%AC-e%EC%97%90-%EC%A0%80%EC%9E%A5%ED%95%98%EC%8B%9C%EC%98%A4.\">¶</a></h3>\n"
   ]
  },
  {
   "cell_type": "code",
   "execution_count": 23,
   "metadata": {},
   "outputs": [
    {
     "data": {
      "text/plain": [
       "array([[ 1.67636021,  4.84837944,  6.48191151],\n",
       "       [ 5.19755863, 14.53773995, 16.97763211],\n",
       "       [ 8.71875705, 24.22710046, 27.47335271]])"
      ]
     },
     "execution_count": 23,
     "metadata": {},
     "output_type": "execute_result"
    }
   ],
   "source": [
    "e = a.dot(d) # .dot을 통해 행렬간의 곱 (행렬 내적)을 구할 수 있다. \n",
    "#a와 d의 곱\n",
    "e"
   ]
  },
  {
   "cell_type": "markdown",
   "metadata": {},
   "source": [
    "\n",
    "<h3 id=\"12.-e에-대하여-각-열의-합을-계산하시오.\">12. e에 대하여 각 열의 합을 계산하시오.<a class=\"anchor-link\" href=\"https://eclass2.ajou.ac.kr/bbcswebdav/pid-698126-dt-content-rid-10115456_1/courses/2020U00020032020084481/Numpy_exercise.html#12.-e%EC%97%90-%EB%8C%80%ED%95%98%EC%97%AC-%EA%B0%81-%EC%97%B4%EC%9D%98-%ED%95%A9%EC%9D%84-%EA%B3%84%EC%82%B0%ED%95%98%EC%8B%9C%EC%98%A4.\">¶</a></h3>\n"
   ]
  },
  {
   "cell_type": "code",
   "execution_count": 24,
   "metadata": {},
   "outputs": [
    {
     "data": {
      "text/plain": [
       "array([13.00665117, 36.7129307 , 60.41921022])"
      ]
     },
     "execution_count": 24,
     "metadata": {},
     "output_type": "execute_result"
    }
   ],
   "source": [
    "np.sum(e, axis=1) # axis=1을 기준으로 (열 기준/ 가로) e의 합을 구한다.\n",
    "\n",
    "#axis=0은 행기준, 수직으로 값을 더한다."
   ]
  }
 ],
 "metadata": {
  "kernelspec": {
   "display_name": "Python 3",
   "language": "python",
   "name": "python3"
  },
  "language_info": {
   "codemirror_mode": {
    "name": "ipython",
    "version": 3
   },
   "file_extension": ".py",
   "mimetype": "text/x-python",
   "name": "python",
   "nbconvert_exporter": "python",
   "pygments_lexer": "ipython3",
   "version": "3.8.3"
  }
 },
 "nbformat": 4,
 "nbformat_minor": 1
}
