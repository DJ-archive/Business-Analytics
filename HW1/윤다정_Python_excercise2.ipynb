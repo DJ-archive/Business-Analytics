{
 "cells": [
  {
   "cell_type": "markdown",
   "metadata": {},
   "source": [
    "# 파이썬 스타일 코드2 - 연습해보기\n",
    "\n",
    "## 1. 람다함수\n",
    "* 람다(lambda) 함수는 함수의 이름 없이, 함수처럼 사용할 수 있는 익명의 함수를 말한다. 선형대수나 미적분 등의 과목을 수강하다 보면, 한 번쯤 람다 대수라는 표현을 들어 보았을 것이다. 람다 함수의 '람다'는 바로 이 람다 대수에서 유래하였다. 일반적으로 람다 함수는 이름을 지정하지 않아도 사용할 수 있다."
   ]
  },
  {
   "cell_type": "markdown",
   "metadata": {},
   "source": [
    "### 1.1. 기존 함수"
   ]
  },
  {
   "cell_type": "code",
   "execution_count": 1,
   "metadata": {},
   "outputs": [
    {
     "name": "stdout",
     "output_type": "stream",
     "text": [
      "5\n"
     ]
    }
   ],
   "source": [
    "def f(x,y):\n",
    "    return x + y\n",
    "\n",
    "print(f(1,4))"
   ]
  },
  {
   "cell_type": "markdown",
   "metadata": {},
   "source": [
    "### 1.2. lambda 함수 할당"
   ]
  },
  {
   "cell_type": "code",
   "execution_count": 2,
   "metadata": {},
   "outputs": [
    {
     "name": "stdout",
     "output_type": "stream",
     "text": [
      "5\n"
     ]
    }
   ],
   "source": [
    "f=lambda x,y: x + y\n",
    "print(f(1,4))"
   ]
  },
  {
   "cell_type": "markdown",
   "metadata": {},
   "source": [
    "### 1.3. 익명의 lambda 함수"
   ]
  },
  {
   "cell_type": "code",
   "execution_count": 70,
   "metadata": {},
   "outputs": [
    {
     "name": "stdout",
     "output_type": "stream",
     "text": [
      "5\n"
     ]
    }
   ],
   "source": [
    "print((lambda x, y : x+y)(1, 4))\n",
    "\n",
    "# 람다함수는 함수의 이름 없이도 매개변수와 함수식만을 이용하여 익명함수를 만들 수 있다."
   ]
  },
  {
   "cell_type": "markdown",
   "metadata": {},
   "source": [
    "## 2. 맵리듀스\n",
    "### 2.1. map 함수\n",
    "* 연속 데이터를 저장하는 시퀀스 자료형에서 요소마다 같은 기능을 적용할 때 사용한다. 일반적으로 리스트나 튜플처럼 요소가 있는 시퀀스 자료형에 사용된다. 다음의 사용 예제를 보자."
   ]
  },
  {
   "cell_type": "code",
   "execution_count": 4,
   "metadata": {},
   "outputs": [
    {
     "name": "stdout",
     "output_type": "stream",
     "text": [
      "[1, 4, 9, 16, 25]\n"
     ]
    }
   ],
   "source": [
    "ex = [1,2,3,4,5]\n",
    "f = lambda x:x**2\n",
    "print(list(map(f, ex)))\n",
    "\n",
    "# 람다함수 f의 매개변수 x에 ex 요소 하나하나를 매핑해주어 리스트로 반환한다. "
   ]
  },
  {
   "cell_type": "markdown",
   "metadata": {},
   "source": [
    "#### 코드 설명\n",
    "* 위 코드에서는 먼저 ex라는 이름의 리스트를 만들고, 입력된 값을 제곱하는 람다함수 f를 생성하였다. 그리고 'map(함수이름, 리스트 데이터)'의 구조에서 map(f,ex) 코드를 실행한다. 이는 해당 코드로 함수 f를 ex의 각 요소에 매핑하라는 뜻이다.\n",
    "* 파이썬 2.x와 3.x의 차이는 제너레이터의 사용인데 3.x 부터는 map()함수의 기본 반환이 제너레이터이므로 list() 함수를 사용해야 리스트로 반환된다.\n",
    "* 제너레이터(generator)는 시퀀스 자료형의 데이터를 처리할 때, 실행 시점의 값을 생성하여 효율적으로 메모리를 관리할 수 있다는 장점이 있다.\n",
    "* 만일 list를 붙이지 않는다면, 다음 코드처럼 코딩할 수도 있다. 여기서 함수는 반"
   ]
  },
  {
   "cell_type": "code",
   "execution_count": 5,
   "metadata": {},
   "outputs": [
    {
     "name": "stdout",
     "output_type": "stream",
     "text": [
      "1\n",
      "4\n",
      "9\n",
      "16\n",
      "25\n"
     ]
    }
   ],
   "source": [
    "ex=[1,2,3,4,5]\n",
    "f=lambda x:x**2\n",
    "for value in map(f,ex):\n",
    "    print(value)\n",
    "    \n",
    "# map함수 앞에 list를 쓰지 않는다면 forloop를 통해 하나씩 반환할 수 있다."
   ]
  },
  {
   "cell_type": "markdown",
   "metadata": {},
   "source": [
    "#### 리스트 컴프리헨션과 비교\n",
    "* 최근에는 람다함수나 map() 함수를 프로그램 개발에 사용하는 것을 권장하지 않는다. 굳이 두 함수를 쓰지 않더라도 리스트 컴프리헨션 기법으로 얼마든지 같은 효과를 낼 수 있기 때문이다. 만약 위 코드를 리스트 컴프리헨션으로 변경하고자 한다면, 다음처럼 코딩하면 된다."
   ]
  },
  {
   "cell_type": "code",
   "execution_count": 7,
   "metadata": {},
   "outputs": [
    {
     "data": {
      "text/plain": [
       "[1, 4, 9, 16, 25]"
      ]
     },
     "execution_count": 7,
     "metadata": {},
     "output_type": "execute_result"
    }
   ],
   "source": [
    "ex = [1, 2, 3, 4, 5]\n",
    "[x**2 for x in ex]\n",
    "\n",
    "# 리스트컴프리헨션 기본"
   ]
  },
  {
   "cell_type": "markdown",
   "metadata": {},
   "source": [
    "* 한개 이상의 시퀀스 자료형 데이터의 처리\n",
    "    * map()함수는 2개 이상의 시퀀스 자료형 데이터를 처리하는 데도 문제가 없다."
   ]
  },
  {
   "cell_type": "code",
   "execution_count": 8,
   "metadata": {},
   "outputs": [
    {
     "data": {
      "text/plain": [
       "[2, 4, 6, 8, 10]"
      ]
     },
     "execution_count": 8,
     "metadata": {},
     "output_type": "execute_result"
    }
   ],
   "source": [
    "ex=[1,2,3,4,5]\n",
    "f=lambda x,y:x+y\n",
    "list(map(f,ex,ex))\n",
    "\n",
    "# 두 개 이상의 시퀀스 자료형 데이터를 같은 위치에 있는 값들끼리 매핑할 수 있다. "
   ]
  },
  {
   "cell_type": "code",
   "execution_count": 9,
   "metadata": {},
   "outputs": [
    {
     "data": {
      "text/plain": [
       "[2, 4, 6, 8, 10]"
      ]
     },
     "execution_count": 9,
     "metadata": {},
     "output_type": "execute_result"
    }
   ],
   "source": [
    "[x+y for x,y in zip(ex,ex)] # zip, 리스트 컴프리헨션 용법을 이용하여 더 간단하게 나타낼 수 있다. "
   ]
  },
  {
   "cell_type": "markdown",
   "metadata": {},
   "source": [
    "### 2.2. reduce 함수\n",
    "* map() 함수와 다르지만 형제처럼 사용하는 함수로 리스트와 같은 시쿼스 자료형에 차례대로 함수를 적용하여 모든 값을 통합하는 함수이다.\n",
    "* lambda 함수와 함께 쓰여 좀 복잡해 보여 예전에는 많이 쓰였으나 최근 버전에서는 사용을 권장하지 않는다. 그러나 많은 코드들이 여전히 사용하고 있어 이해차원에서 배울 필요가 있다."
   ]
  },
  {
   "cell_type": "code",
   "execution_count": 10,
   "metadata": {},
   "outputs": [
    {
     "name": "stdout",
     "output_type": "stream",
     "text": [
      "15\n"
     ]
    }
   ],
   "source": [
    "from functools import reduce\n",
    "print(reduce(lambda x,y:x+y, [1,2,3,4,5]))\n",
    "\n",
    "# reduce는 그 전 값과 차례대로 함수를 적용하여 모든 값을 통합한다. "
   ]
  },
  {
   "cell_type": "markdown",
   "metadata": {},
   "source": [
    "* 비교 코드"
   ]
  },
  {
   "cell_type": "code",
   "execution_count": 11,
   "metadata": {},
   "outputs": [
    {
     "name": "stdout",
     "output_type": "stream",
     "text": [
      "15\n"
     ]
    }
   ],
   "source": [
    "x=0\n",
    "for y in [1,2,3,4,5]:\n",
    "    x += y\n",
    "print(x)"
   ]
  },
  {
   "cell_type": "markdown",
   "metadata": {},
   "source": [
    "## 3. 별표의 활용"
   ]
  },
  {
   "cell_type": "markdown",
   "metadata": {},
   "source": [
    "### 3.1. 가변 인수로 활용\n",
    "\n",
    "* 가변 인수"
   ]
  },
  {
   "cell_type": "code",
   "execution_count": 26,
   "metadata": {},
   "outputs": [
    {
     "name": "stdout",
     "output_type": "stream",
     "text": [
      "1 (2, 3, 4, 5, 6)\n",
      "<class 'tuple'>\n"
     ]
    }
   ],
   "source": [
    "def asterisk_test(a, *args): #가변인수는 여러개의 매개변수를 가질 수 있고, 튜플 형식으로 반환한다. \n",
    "    print(a,args)\n",
    "    print(type(args))\n",
    "\n",
    "asterisk_test(1,2,3,4,5,6)\n"
   ]
  },
  {
   "cell_type": "markdown",
   "metadata": {},
   "source": [
    "* 키워드 가변인수"
   ]
  },
  {
   "cell_type": "code",
   "execution_count": 13,
   "metadata": {},
   "outputs": [
    {
     "name": "stdout",
     "output_type": "stream",
     "text": [
      "1 {'b': 2, 'c': 3, 'd': 4, 'e': 5, 'f': 6}\n",
      "<class 'dict'>\n"
     ]
    }
   ],
   "source": [
    "def asterisk_test(a,**kargs): #키워드 가변인수는 여러개의 매개변수를 가질 수 있고, 딕셔너리 형식으로 반환한다. \n",
    "    print(a,kargs)\n",
    "    print(type(kargs))\n",
    "asterisk_test(1,b=2,c=3,d=4,e=5,f=6)"
   ]
  },
  {
   "cell_type": "markdown",
   "metadata": {},
   "source": [
    "### 3.2. 별표의 언패킹 기능\n",
    "* 함수에서의 사용"
   ]
  },
  {
   "cell_type": "code",
   "execution_count": 24,
   "metadata": {},
   "outputs": [
    {
     "name": "stdout",
     "output_type": "stream",
     "text": [
      "1 2 3 4 5 6\n",
      "<class 'tuple'>\n"
     ]
    }
   ],
   "source": [
    "def asterisk_test(a,args): # 이건, 매개변수에 *가 없으므로, 매개변수가 2개라는 뜻!!!\n",
    "    print(a,*args) #두번째 변수가 언패킹된다.\n",
    "    print(type(args))\n",
    "asterisk_test(1,(2,3,4,5,6))"
   ]
  },
  {
   "cell_type": "code",
   "execution_count": 27,
   "metadata": {},
   "outputs": [
    {
     "name": "stdout",
     "output_type": "stream",
     "text": [
      "1 (2, 3, 4, 5, 6)\n",
      "<class 'tuple'>\n"
     ]
    }
   ],
   "source": [
    "def asterisk_test(a,args):\n",
    "    print(a,args) #언패킹되지 않는다. 따라서 두번째 매개변수 값이 튜플로 반환된다. \n",
    "    print(type(args))\n",
    "asterisk_test(1,(2,3,4,5,6))"
   ]
  },
  {
   "cell_type": "markdown",
   "metadata": {},
   "source": [
    "* 일반 자료형에서의 사용"
   ]
  },
  {
   "cell_type": "code",
   "execution_count": 32,
   "metadata": {},
   "outputs": [
    {
     "name": "stdout",
     "output_type": "stream",
     "text": [
      "[1, 2] [3, 4] [5, 6]\n",
      "[1, 2] [3, 4] [5, 6]\n"
     ]
    }
   ],
   "source": [
    "a,b,c=([1,2], [3,4], [5,6]) # 직접 변수 할당해서 언패킹한 뒤, print로 보여준다.\n",
    "print(a,b,c)\n",
    "\n",
    "data=([1,2], [3,4], [5,6])\n",
    "print(*data) #*로 data를 한번에 바로 언패킹해준다.\n",
    "#언패킹 하지 않으면 튜플 형태로 묶여서 보여진다."
   ]
  },
  {
   "cell_type": "markdown",
   "metadata": {},
   "source": [
    "* zip 함수와의 응용"
   ]
  },
  {
   "cell_type": "code",
   "execution_count": 40,
   "metadata": {},
   "outputs": [
    {
     "name": "stdout",
     "output_type": "stream",
     "text": [
      "(1, 3, 5)\n",
      "<class 'tuple'>\n",
      "(2, 4, 6)\n",
      "<class 'tuple'>\n"
     ]
    }
   ],
   "source": [
    "for data in zip(*[[1,2],[3,4],[5,6]]): \n",
    "    print(data)\n",
    "    print(type(data))\n",
    "    \n",
    "#이중루프를 쓰지 않아도, *로 언패킹해서, 2차원 리스트를 언패킹하여 zip을 수행할 수 있다. "
   ]
  },
  {
   "cell_type": "markdown",
   "metadata": {},
   "source": [
    "* 키워드 가변 인수 응용: **로 딕셔너리형도 언패킹 가능하다. "
   ]
  },
  {
   "cell_type": "code",
   "execution_count": 44,
   "metadata": {},
   "outputs": [
    {
     "name": "stdout",
     "output_type": "stream",
     "text": [
      "10 1 2 3\n"
     ]
    }
   ],
   "source": [
    "def asterisk_test(a,b,c,d):\n",
    "    print(a,b,c,d)\n",
    "data={\"b\":1, \"c\":2, \"d\":3}\n",
    "asterisk_test(10, **data) \n",
    "\n",
    "# **로 딕셔너리형 data를 언패킹해서 넣어주지 않으면, data가 b 매개변수로 들어가게 된다. "
   ]
  },
  {
   "cell_type": "markdown",
   "metadata": {},
   "source": [
    "## 4. 선형대수학"
   ]
  },
  {
   "cell_type": "markdown",
   "metadata": {},
   "source": [
    "### 4.1. 파이썬 스타일 코드로 표현한 벡터"
   ]
  },
  {
   "cell_type": "code",
   "execution_count": 45,
   "metadata": {},
   "outputs": [],
   "source": [
    "vector_a=[1,2,10]  # 리스트로 표현한 경우\n",
    "vector_b=(1,2,10)   # 튜플로 표현한 경우\n",
    "vector_c={'x':1, 'y':2, 'z':10}  # 딕셔너리로 표현한 경우"
   ]
  },
  {
   "cell_type": "markdown",
   "metadata": {},
   "source": [
    "* 벡터의 연산: 벡터합\n",
    "> [2,2]+[2,3]+[3,5]=[7,10]"
   ]
  },
  {
   "cell_type": "code",
   "execution_count": 46,
   "metadata": {},
   "outputs": [
    {
     "name": "stdout",
     "output_type": "stream",
     "text": [
      "[7, 10]\n"
     ]
    }
   ],
   "source": [
    "u=[2,2]\n",
    "v=[2,3]\n",
    "z=[3,5]\n",
    "result=[]\n",
    "\n",
    "for i in range(len(u)):\n",
    "    result.append(u[i]+v[i]+z[i])\n",
    "print(result)\n",
    "\n",
    "#forloop를 통해 벡터 길이만큼 같은 위치에 있는 값끼리 더해준다. "
   ]
  },
  {
   "cell_type": "code",
   "execution_count": 50,
   "metadata": {},
   "outputs": [
    {
     "name": "stdout",
     "output_type": "stream",
     "text": [
      "[7, 10]\n"
     ]
    }
   ],
   "source": [
    "u=[2,2]\n",
    "v=[2,3]\n",
    "z=[3,5]\n",
    "result=[sum(t) for t in zip(u,v,z)]\n",
    "print(result)\n",
    "\n",
    "#위의 방식 말고, zip(병렬계산가능)으로 같은 위치에 있는 것들끼리의 합을 구할 수 있다."
   ]
  },
  {
   "cell_type": "markdown",
   "metadata": {},
   "source": [
    "* 별표를 사용한 함수화 : 변수가 많으면 별표를 이용하여 가변인수로 계산할 수 있다."
   ]
  },
  {
   "cell_type": "code",
   "execution_count": 55,
   "metadata": {},
   "outputs": [
    {
     "data": {
      "text/plain": [
       "[7, 10]"
      ]
     },
     "execution_count": 55,
     "metadata": {},
     "output_type": "execute_result"
    }
   ],
   "source": [
    "def vector_addition(*args):\n",
    "    return [sum(t) for t in zip(*args)]   # 별표-unpacking 통해 zip(u,v,z) 효과를 낼 수 있음.\n",
    "\n",
    "vector_addition(u,v,z)"
   ]
  },
  {
   "cell_type": "markdown",
   "metadata": {},
   "source": [
    "* 간단한 두벡터의 합"
   ]
  },
  {
   "cell_type": "code",
   "execution_count": 56,
   "metadata": {},
   "outputs": [
    {
     "data": {
      "text/plain": [
       "[3, 3]"
      ]
     },
     "execution_count": 56,
     "metadata": {},
     "output_type": "execute_result"
    }
   ],
   "source": [
    "a = [1, 1]\n",
    "b = [2, 2]\n",
    "\n",
    "[x + y for x, y in zip(a, b)] #zip으로 간단하게 두 벡터를 더한다."
   ]
  },
  {
   "cell_type": "markdown",
   "metadata": {},
   "source": [
    "* 벡터의 연산: 스칼라곱\n",
    "> 2([1,2,3]+[4,4,4])=2[5,6,7]=[10,12,14] "
   ]
  },
  {
   "cell_type": "code",
   "execution_count": 57,
   "metadata": {},
   "outputs": [
    {
     "data": {
      "text/plain": [
       "[10, 12, 14]"
      ]
     },
     "execution_count": 57,
     "metadata": {},
     "output_type": "execute_result"
    }
   ],
   "source": [
    "u=[1,2,3]\n",
    "v=[4,4,4]\n",
    "\n",
    "alpha=2\n",
    "\n",
    "result=[alpha*sum(t) for t in zip(u,v)] # zip을 사용해서 sum결과 앞에 alpha를 곱한다.\n",
    "result"
   ]
  },
  {
   "cell_type": "markdown",
   "metadata": {},
   "source": [
    "### 4.2. 파이썬 스타일코드로 표현한 행렬\n",
    "* 딕셔너리로 표현하는 경우 좌표정보나 이름정보를 넣을 수 있으나 복잡함"
   ]
  },
  {
   "cell_type": "code",
   "execution_count": 58,
   "metadata": {},
   "outputs": [],
   "source": [
    "matrix_a=[[3,6], [4,5]] #리스트로 표현한 경우\n",
    "matrix_b=[(3,6), (4,5)] #튜플로 표현한 경우\n",
    "matrix_c={(0,0):3, (0,1):6, (1,0):4, (1,1):5}  #디셔너리로 표현한경우"
   ]
  },
  {
   "cell_type": "markdown",
   "metadata": {},
   "source": [
    "* 행렬의 연산: 행렬의 elemnet-wise 합"
   ]
  },
  {
   "cell_type": "code",
   "execution_count": 59,
   "metadata": {},
   "outputs": [
    {
     "name": "stdout",
     "output_type": "stream",
     "text": [
      "[[8, 14], [10, 12]]\n"
     ]
    }
   ],
   "source": [
    "matrix_a=[[3,6], [4,5]]\n",
    "matrix_b=[[5,8], [6,7]]\n",
    "\n",
    "result=[[sum(row) for row in zip(*t)] for t in zip(matrix_a, matrix_b)]\n",
    "print(result)"
   ]
  },
  {
   "cell_type": "markdown",
   "metadata": {},
   "source": [
    "# 일반문제"
   ]
  },
  {
   "cell_type": "markdown",
   "metadata": {},
   "source": [
    "## 주민등록번호로 성별 찾기 with map\n",
    "PR6에서 split을 활용하여 주민등록번호 뒷자리의 맨 첫 번째 숫자를 추출하여 성별을 알아내는 과정을 구현하였다. 이번에는 여러개의 요소를 가지는 다음과 같은 리스트에서 성별을 찾는 과정을 맵리듀스를 이용해 간단하게 구현해보자.\n",
    "\n",
    "```python\n",
    "pins = [\"891120-1234567\", \"931120-2335567\", \"911120-1234234\", \"951120-1234567\"]\n",
    "```\n",
    "\n",
    "> Q: lambda와 map을 사용하여 위의 리스트에서 출력결과 예시와 같이 성별을 나타내는 값을 추출하시오.\n",
    "\n",
    "\n",
    "출력결과 예시\n",
    "```python\n",
    "## CODE\n",
    "\n",
    "## ['1', '2', '1', '1']\n",
    "```"
   ]
  },
  {
   "cell_type": "code",
   "execution_count": 61,
   "metadata": {},
   "outputs": [
    {
     "data": {
      "text/plain": [
       "['1', '2', '1', '1']"
      ]
     },
     "execution_count": 61,
     "metadata": {},
     "output_type": "execute_result"
    }
   ],
   "source": [
    "pins = [\"891120-1234567\", \"931120-2335567\", \"911120-1234234\", \"951120-1234567\"]\n",
    "\n",
    "\n",
    "list(map(lambda x: x.split(\"-\")[1][0], pins))\n",
    "\n",
    "# 주민번호의 '-' 뒤에 있는 첫번째 숫자를 추출해야 한다.\n",
    "# 따라서, lambda함수를 이용하여 '-'를 구분자로 split한 리스트 두번째 요소(주민번호 뒷번호들)중 첫번째 값(성별값)을 가져오는 함수식을 만든다. (매개변수 x)\n",
    "# map 함수를 이용하여 pins 리스트의 요소들 하나하나씩을 lambda함수 x에 매핑시켜 리스트로 반환한다."
   ]
  },
  {
   "cell_type": "markdown",
   "metadata": {},
   "source": [
    "# 도전문제\n",
    "## 벡터의 내적\n",
    "크기가 같은 두 벡터의 내적은 벡터의 각 성분별 곱한 값을 더해준 값이다.\n",
    "\n",
    "![내적함수](https://i.ibb.co/gv7fkc1/dfd.png)\n",
    " \n",
    "> Q: 크기가 같은 두 벡터 (list 형태)를 받으면 이를 내적한 값을 도출하는 함수 dot을 구현하고, 이를 활용하여 a=[1, 2], b=[3,4]를 내적한 값을 구하시오."
   ]
  },
  {
   "cell_type": "code",
   "execution_count": 71,
   "metadata": {},
   "outputs": [
    {
     "data": {
      "text/plain": [
       "11"
      ]
     },
     "execution_count": 71,
     "metadata": {},
     "output_type": "execute_result"
    }
   ],
   "source": [
    "a = [1, 2]\n",
    "b = [3, 4]\n",
    "\n",
    "dot = lambda a,b : sum([x*y for x, y in zip(a, b)])\n",
    "\n",
    "dot(a,b)\n",
    "\n",
    "# zip으로 같은 위치에 있는 값들을 곱함 값들의 합을 쉽게 구할 수 있다. \n",
    "# (1*3)+(2*4)"
   ]
  }
 ],
 "metadata": {
  "kernelspec": {
   "display_name": "Python 3",
   "language": "python",
   "name": "python3"
  },
  "language_info": {
   "codemirror_mode": {
    "name": "ipython",
    "version": 3
   },
   "file_extension": ".py",
   "mimetype": "text/x-python",
   "name": "python",
   "nbconvert_exporter": "python",
   "pygments_lexer": "ipython3",
   "version": "3.8.3"
  }
 },
 "nbformat": 4,
 "nbformat_minor": 4
}
