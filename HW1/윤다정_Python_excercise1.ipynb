{
 "cells": [
  {
   "cell_type": "markdown",
   "metadata": {},
   "source": [
    "# 파이썬 스타일 코드1 - 연습해보기\n"
   ]
  },
  {
   "cell_type": "markdown",
   "metadata": {},
   "source": [
    "## 1. Css Selector 수정\n",
    "Css Selector는 웹 페이지에서 특정 요소를 선택하기 위해 해당 요소까지 찾아갈 수 있도록 해주는 주소와 같은 것이다. 대부분의 웹브라우져에서는 해당 요소에 대한 css selector 값을 쉽게 얻어올 수 있다 (F12 > Select an Element). 다음과 같은 selector가 있다고 한다.\n",
    "> ```#today_main_news > div.hdline_news > ul > li:nth-child(1)```\n",
    "\n",
    "이러한 selector를 웹크롤링에서 사용하기 위해서는 :nth-child라는 부분을 제거하는 작업이 필요한데, 이를 자동화 해보자.\n",
    "\n",
    "> Q: 해당 Selector를 문자열로 표시하고, split과 join 함수를 활용하여 다음 예시와 같은 selector를 출력하시오."
   ]
  },
  {
   "cell_type": "code",
   "execution_count": 9,
   "metadata": {},
   "outputs": [
    {
     "data": {
      "text/plain": [
       "['#today_main_news ', ' div.hdline_news ', ' ul ', ' li:nth-child(1)']"
      ]
     },
     "execution_count": 9,
     "metadata": {},
     "output_type": "execute_result"
    }
   ],
   "source": [
    "selector = \"#today_main_news > div.hdline_news > ul > li:nth-child(1)\" \n",
    "\n",
    "selector_list = selector.split(\">\") \n",
    "selector_list\n",
    "# selector를 \">\" 구분자로 구분하여 나누고, 이를 리스트 selector_list에 넣는다."
   ]
  },
  {
   "cell_type": "code",
   "execution_count": 10,
   "metadata": {},
   "outputs": [],
   "source": [
    "selector_list[-1] = selector_list[-1].split(\":\")[0]\n",
    "\n",
    "# selector_list의 마지막 값 = \"li:nth-child(1)\" \n",
    "# 마지막 값에서 \":nth-child\"을 제거하기 위해 \":\" 구분자로 다시 split하고, 첫번째 요소를 selector_list에 다시 할당한다.\n",
    "\n",
    "# print(selector_list)"
   ]
  },
  {
   "cell_type": "code",
   "execution_count": 11,
   "metadata": {},
   "outputs": [
    {
     "data": {
      "text/plain": [
       "'#today_main_news > div.hdline_news > ul > li'"
      ]
     },
     "execution_count": 11,
     "metadata": {},
     "output_type": "execute_result"
    }
   ],
   "source": [
    "\">\".join(selector_list)\n",
    "# \"li:nth-child(1)\" 가 제거된 selector_list를 다시 \">\"를 기준으로 join하여 원하는 결과값을 낸다."
   ]
  },
  {
   "cell_type": "markdown",
   "metadata": {},
   "source": [
    "## 2. list comprehension으로 만드는 구구단\n",
    "PR5 문제 3번에서 만들었던 구구단 계산기를 list comprehension으로 구현해보고자 한다.\n",
    "\n",
    "> Q: list comprehension을 사용하여 구구단을 연산하는 함수 gugu_com을 작성하고 구구단 7단을 출력하시오."
   ]
  },
  {
   "cell_type": "code",
   "execution_count": 28,
   "metadata": {},
   "outputs": [],
   "source": [
    "def gugu_com(x):\n",
    "    [print (f\"{x} x {i} = {x*i}\") for i in range(1,10)]\n",
    "\n",
    "    # 구구단 7단을 출력하기 위한 \"gugu_com\" 이름의 함수를 정의한다.매개변수는 x이다. \n",
    "    # 매개변수 x 값과 i(1~9)의 곱셈 식과 값을 보여주어야 한다. > i의 조건을 정의하고, 함수 매개변수 x와 함께 활용해야 함. \n",
    "    # 리스트 컴프리헨션을 이용하여 for문으로 i의 범위를 1부터 9까지로 정하고, i와 x를 활용하여 구구단 식과 값을 print해준다."
   ]
  },
  {
   "cell_type": "code",
   "execution_count": 27,
   "metadata": {},
   "outputs": [
    {
     "name": "stdout",
     "output_type": "stream",
     "text": [
      "7 x 1 = 7\n",
      "7 x 2 = 14\n",
      "7 x 3 = 21\n",
      "7 x 4 = 28\n",
      "7 x 5 = 35\n",
      "7 x 6 = 42\n",
      "7 x 7 = 49\n",
      "7 x 8 = 56\n",
      "7 x 9 = 63\n"
     ]
    }
   ],
   "source": [
    "gugu_com(7)\n",
    "\n",
    "#함수 매개변수에 7을 할당하여 구구단 7단을 출력한다."
   ]
  },
  {
   "cell_type": "markdown",
   "metadata": {},
   "source": [
    "## 3. 두 주사위의 곱\n",
    "> Q: list comprehension을 사용하여, 힌트를 제외하고는 한줄의 코드로 해당 결과를 가지는 이차원 리스트를 만드시오."
   ]
  },
  {
   "cell_type": "markdown",
   "metadata": {},
   "source": [
    "### 출력결과 예시\n",
    ">```[[1, 2, 3, 4, 5, 6],\n",
    "[2, 4, 6, 8, 10, 12],\n",
    "[3, 6, 9, 12, 15, 18],\n",
    "[4, 8, 12, 16, 20, 24],\n",
    "[5, 10, 15, 20, 25, 30],\n",
    "[6, 12, 18, 24, 30, 36]] \n",
    "```"
   ]
  },
  {
   "cell_type": "code",
   "execution_count": 42,
   "metadata": {},
   "outputs": [
    {
     "data": {
      "text/plain": [
       "[[1, 2, 3, 4, 5, 6],\n",
       " [2, 4, 6, 8, 10, 12],\n",
       " [3, 6, 9, 12, 15, 18],\n",
       " [4, 8, 12, 16, 20, 24],\n",
       " [5, 10, 15, 20, 25, 30],\n",
       " [6, 12, 18, 24, 30, 36]]"
      ]
     },
     "execution_count": 42,
     "metadata": {},
     "output_type": "execute_result"
    }
   ],
   "source": [
    "die = [i for i in range(1,7)]\n",
    "# 1부터 6을 리스트로 출력하는 die 정의.\n",
    "\n",
    "dice_multiple = [[j*i for i in die] for j in die]\n",
    "dice_multiple\n",
    "# 리스트 컴프리헨션의 이차원 리스트는 일차원 리스트와 달리, 뒤의 for문을 기준으로 앞의 for문을 출력한다.\n",
    "# die의 원소 하나를 j로 가져와서 그것을 기준으로 새로운 die의 원소(i)를 곱해준다. 이차원리스트로 출력한다.\n",
    "# [1*1, 1*2, 1*3, ... 1*6], [2*1, 2*2, ...],..."
   ]
  },
  {
   "cell_type": "markdown",
   "metadata": {},
   "source": [
    "## 4. 두 주사위의 합"
   ]
  },
  {
   "cell_type": "markdown",
   "metadata": {},
   "source": [
    "간단한 테이블 형태의 데이터를 2차원 리스트로 표현해보자. 2개의 주사위를 굴리면 다음 표와 같이 36가지의 결과가 나온다.\n",
    "\n",
    "![주사위의합/구글이미지url](https://mblogthumb-phinf.pstatic.net/20160829_34/freewheel3_1472453018860Q7yxg_PNG/%C7%A5%BA%BB%B0%F8%B0%A3.png?type=w800)\n",
    "\n",
    "> Q: 이것을 6 x 6 크기의 2차원 리스트로 생성하고, 인덱싱을 통해 2 + 6의 값을 2가지 방법으로 나타내시오. (2차원 리스트 생성시 방법의 제한은 없습니다.)"
   ]
  },
  {
   "cell_type": "markdown",
   "metadata": {},
   "source": [
    "1) 원소들을 직접 할당하여 2차원 리스트를 직접 만들기."
   ]
  },
  {
   "cell_type": "code",
   "execution_count": 44,
   "metadata": {},
   "outputs": [
    {
     "name": "stdout",
     "output_type": "stream",
     "text": [
      "8\n",
      "8\n"
     ]
    }
   ],
   "source": [
    "dice_sum = [[2, 3, 4, 5, 6, 7],\n",
    "            [3, 4, 5, 6, 7, 8],\n",
    "            [4, 5, 6, 7, 8, 9],\n",
    "            [5, 6, 7, 8, 9, 10],\n",
    "            [6, 7, 8, 9, 10, 11],\n",
    "            [7, 8, 9, 10, 11, 12]]\n",
    "# 두 주사위의 곱을 나타내주는 6*6 크기의 2차원 리스트를 직접 만들어준다.\n",
    "\n",
    "print(dice_sum[1][5]) # 2+6 > dice_sum의 2번째 행의 6번째 값을 가져온다.\n",
    "print(dice_sum[5][1]) # 6+2 > dice_sum의 6번째 행의 2번째 값을 가져온다."
   ]
  },
  {
   "cell_type": "markdown",
   "metadata": {},
   "source": [
    "2) 리스트 컴프리헨션으로 2차원 리스트를 만들기."
   ]
  },
  {
   "cell_type": "code",
   "execution_count": 45,
   "metadata": {},
   "outputs": [
    {
     "name": "stdout",
     "output_type": "stream",
     "text": [
      "8\n",
      "8\n"
     ]
    }
   ],
   "source": [
    "die = [i for i in range(1,7)] #1부터 6까지의 값을 die 리스트에 넣어준다.\n",
    "\n",
    "dice_sum = [[j+i for i in die] for j in die] \n",
    "# '두 주사위의 곱'과 같은 방법으로 리스트 컴프리헨션을 이용하여 두 주사위의 합을 보여주는 이차원 리스트를 만든다.\n",
    "\n",
    "print(dice_sum[1][5]) # 2+6 > dice_sum의 2번째 행의 6번째 값을 가져온다.\n",
    "print(dice_sum[5][1]) # 6+2 > dice_sum의 6번째 행의 2번째 값을 가져온다."
   ]
  },
  {
   "cell_type": "markdown",
   "metadata": {},
   "source": [
    "## 도전문제\n",
    "\n",
    "### 표절 검사 프로그램\n",
    "\n",
    "아주대학교 경영학과의 한 교수님은 과제의 표절 검사를 쉽게 하기 위해 Python을 통한 간단한 표절 검사 프로그램을 작성해보고자 한다.\n",
    "\n",
    "현재 구상 중인 프로그램은 복잡한 알고리즘을 필요로하지 않고, 간단하게 단어 빈도를 기반으로 하여, 그 유사도를 측정하고자한다."
   ]
  },
  {
   "cell_type": "code",
   "execution_count": 46,
   "metadata": {},
   "outputs": [],
   "source": [
    "from collections import defaultdict, Counter #collections 모듈에서 defaultdict, Counter를 임포트한다.\n",
    "\n",
    "text = \"\"\"Python is a very simple programming language so even if you are new to programming, you can learn python without facing any issues.\"\"\"\n",
    "\n",
    "text2 = \"\"\"C is a very difficult programming language so even if you are good at programming, you can learn c with facing any issues.\"\"\"\n",
    "\n",
    "text3 = \"\"\"R Programming is good at statistical analysis. you can learn easily\"\"\"\n",
    "\n",
    "# collections.counter(): 컨테이너에 동일한 값의 자료가 몇개인지를 파악하는데 사용하는 객체이다.\n",
    "# collections.defaultdict(): 단순한 dict와 다르게, 인덱싱에서 key 값이 없으면 오류가 아닌 0을 기본 값으로 가지게 한다."
   ]
  },
  {
   "cell_type": "markdown",
   "metadata": {},
   "source": [
    "#### Hint\n",
    "```python\n",
    "word_dict = dict()\n",
    "word_dict[\"key\"]\n",
    "## key error\n",
    "\n",
    "word_dict = defaultdict(lambda: 0)\n",
    "word_dict[\"key\"] \n",
    "## 0\n",
    "\n",
    "word_dict[\"key\"] += 1\n",
    "word_dict[\"key\"]\n",
    "## 1\n",
    "```"
   ]
  },
  {
   "cell_type": "markdown",
   "metadata": {},
   "source": [
    "### 문제1\n",
    "> Q: defaultdict를 활용하여 text를 입력받으면 단어별 빈도를 측정하여 반환하는 함수 word_counter를 만드시오."
   ]
  },
  {
   "cell_type": "markdown",
   "metadata": {},
   "source": [
    "* 유사도 측정을 위해 문장을 단어별로 분할해야하며, 편의를 위해 모두 소문자로 바꿔준다.\n",
    "- split, lower"
   ]
  },
  {
   "cell_type": "code",
   "execution_count": 58,
   "metadata": {},
   "outputs": [],
   "source": [
    "def word_counter(text):\n",
    "    word_count = defaultdict(lambda: 0) #  key값이 없어도 key error가 나지 않고, 값을 0으로 반환하는 딕셔너리 \n",
    "    for word in text.lower().split(): # 공백 기준으로 나누고, 모두 소문자로 바꿔준다.\n",
    "        word_count[word] += 1 # 단어가 있을 때마다, key로 단어를 할당하고 값을 1씩 더하여 단어 출현 갯수를 보여주도록 한다.\n",
    "        \n",
    "    return word_count"
   ]
  },
  {
   "cell_type": "code",
   "execution_count": 59,
   "metadata": {},
   "outputs": [
    {
     "data": {
      "text/plain": [
       "defaultdict(<function __main__.word_counter.<locals>.<lambda>()>,\n",
       "            {'python': 2,\n",
       "             'is': 1,\n",
       "             'a': 1,\n",
       "             'very': 1,\n",
       "             'simple': 1,\n",
       "             'programming': 1,\n",
       "             'language': 1,\n",
       "             'so': 1,\n",
       "             'even': 1,\n",
       "             'if': 1,\n",
       "             'you': 2,\n",
       "             'are': 1,\n",
       "             'new': 1,\n",
       "             'to': 1,\n",
       "             'programming,': 1,\n",
       "             'can': 1,\n",
       "             'learn': 1,\n",
       "             'without': 1,\n",
       "             'facing': 1,\n",
       "             'any': 1,\n",
       "             'issues.': 1})"
      ]
     },
     "execution_count": 59,
     "metadata": {},
     "output_type": "execute_result"
    }
   ],
   "source": [
    "word_counter(text) # 함수 호출"
   ]
  },
  {
   "cell_type": "markdown",
   "metadata": {},
   "source": [
    "### 문제2\n",
    "> Q: 도전문제 1의 word_counter 활용하여 text와 text2의 유사도와 text와 text3의 유사도를 구하시오."
   ]
  },
  {
   "cell_type": "markdown",
   "metadata": {},
   "source": [
    "#### HINT\n",
    "* collections 모듈의 Counter는 dict의 형태이지만 Counter들 간의 덧셈, 뺄셈 연산이 가능하며 defaultdict를 Counter로 변환할 수 있다.\n",
    "\n",
    "```python\n",
    "Counter({\"a\": 1, \"b\": 2, \"c\": 3}) - Counter({\"a\": 1, \"b\": 1, \"c\": 1}) \n",
    "## Counter({'b': 1, 'c': 2}) \n",
    "```\n",
    "\n",
    "* dictionary 형태의 모든 자료구조는 .values() 를 통해 value 값만 추출할 수 있다.\n",
    "\n",
    "```python\n",
    "sum(Counter({\"a\": 1, \"b\": 2, \"c\": 3}).values()) # 전체 단어수 합\n",
    "## 6\n",
    "```\n",
    "* Counter(A)가 Counter(B)와 얼마나 유사한지는 다음과 같은 공식을 따른다고 한다.(시그마는 해당 Counter dict 안의 value 값을 모두 합하라는 의미)\n",
    "\n",
    "\n",
    "![함수이미지](https://i.ibb.co/DYyB31N/1312.png)\n"
   ]
  },
  {
   "cell_type": "code",
   "execution_count": 64,
   "metadata": {},
   "outputs": [],
   "source": [
    "def text_similarity(text_count_1, text_count_2):\n",
    "    text1_count = Counter(text_count_1)\n",
    "    text2_count = Counter(text_count_2)\n",
    "    \n",
    "    word_total = sum(text1_count.values())\n",
    "    word_diff = sum((text1_count - text2_count).values()) \n",
    "    \n",
    "    return (1 - word_diff / word_total) * 100\n",
    "\n",
    "# 표절을 가려내기: 두 text간의 유사도 측정을 구하기 위해 위의 식을 수행하는 함수 text_similarity를 정의한다."
   ]
  },
  {
   "cell_type": "code",
   "execution_count": 65,
   "metadata": {},
   "outputs": [
    {
     "data": {
      "text/plain": [
       "73.91304347826086"
      ]
     },
     "execution_count": 65,
     "metadata": {},
     "output_type": "execute_result"
    }
   ],
   "source": [
    "text_similarity(word_counter(text), word_counter(text2))\n",
    "# 함수를 호출하여 text와 text2간의 유사도를 측정한다."
   ]
  },
  {
   "cell_type": "code",
   "execution_count": 66,
   "metadata": {},
   "outputs": [
    {
     "data": {
      "text/plain": [
       "21.739130434782606"
      ]
     },
     "execution_count": 66,
     "metadata": {},
     "output_type": "execute_result"
    }
   ],
   "source": [
    "text_similarity(word_counter(text), word_counter(text3))\n",
    "# text와 text3간의 유사도를 측정한다."
   ]
  },
  {
   "cell_type": "markdown",
   "metadata": {},
   "source": [
    "> text, text2의 유사도가 73으로, text2의 표절이 의심된다. "
   ]
  }
 ],
 "metadata": {
  "kernelspec": {
   "display_name": "Python 3",
   "language": "python",
   "name": "python3"
  },
  "language_info": {
   "codemirror_mode": {
    "name": "ipython",
    "version": 3
   },
   "file_extension": ".py",
   "mimetype": "text/x-python",
   "name": "python",
   "nbconvert_exporter": "python",
   "pygments_lexer": "ipython3",
   "version": "3.8.3"
  }
 },
 "nbformat": 4,
 "nbformat_minor": 4
}
